{
 "cells": [
  {
   "cell_type": "markdown",
   "id": "acd5150b-4501-4aa9-a575-de41d3207f90",
   "metadata": {},
   "source": [
    "## Import File Image"
   ]
  },
  {
   "cell_type": "code",
   "execution_count": 15,
   "id": "68d872e2-fa26-43a1-8c2c-7c1953a1bd08",
   "metadata": {},
   "outputs": [],
   "source": [
    "import os\n",
    "import cv2\n",
    "import numpy as np\n",
    "import matplotlib.pyplot as plt\n",
    "from pathlib import Path\n",
    "import h5py\n",
    "\n",
    "from sklearn.discriminant_analysis import LinearDiscriminantAnalysis \n",
    "from sklearn.neighbors import KNeighborsClassifier\n",
    "from sklearn.cluster import KMeans\n",
    "from sklearn.metrics import accuracy_score, classification_report, confusion_matrix"
   ]
  },
  {
   "cell_type": "code",
   "execution_count": 16,
   "id": "62f6adfe-a304-4bdb-8c1c-f7e0aca39cef",
   "metadata": {},
   "outputs": [],
   "source": [
    "h5_path = 'C://Users//User//Downloads//Pattern Recognition Project//HDF5//image_data.h5'\n",
    "\n",
    "X_train = []\n",
    "y_train = []\n",
    "X_test = []\n",
    "y_test = []\n",
    "X_valid = []\n",
    "y_valid = []"
   ]
  },
  {
   "cell_type": "code",
   "execution_count": 17,
   "id": "7981ba2d-c7ea-47f5-b3b8-2cafa6394b8d",
   "metadata": {},
   "outputs": [],
   "source": [
    "def segment_background(image):\n",
    "    gray_image = cv2.cvtColor(image, cv2.COLOR_BGR2GRAY)\n",
    "    _, segmented_image = cv2.threshold(gray_image, 127, 255, cv2.THRESH_BINARY)\n",
    "    return segmented_image"
   ]
  },
  {
   "cell_type": "code",
   "execution_count": 18,
   "id": "5990221a-5507-4239-85ec-019c8aa628d7",
   "metadata": {},
   "outputs": [],
   "source": [
    "def preprocess_image(h5_path, size=(50, 50)):\n",
    "    with h5py.File(h5_path, 'r') as h5_file:\n",
    "        for split in ['train', 'test' , 'valid']:\n",
    "            split_group = h5_file[split]\n",
    "            for category in split_group.keys():\n",
    "                category_group = split_group[category]\n",
    "                print(category)\n",
    "                if category != \".ipynb_checkpoints\":\n",
    "                    label = int(category) \n",
    "                for image_name in category_group.keys():\n",
    "                    image_data = category_group[image_name][()]\n",
    "                    resized_image = cv2.resize(image_data, size)\n",
    "                    if split == 'train':\n",
    "                        X_train.append(resized_image)\n",
    "                        y_train.append(label)\n",
    "                    elif split == 'test':\n",
    "                        X_test.append(resized_image)\n",
    "                        y_test.append(label)\n",
    "                    elif split == 'valid':\n",
    "                        X_valid.append(resized_image)\n",
    "                        y_valid.append(label)\n",
    "\n",
    "    return image_data, resized_image, label"
   ]
  },
  {
   "cell_type": "code",
   "execution_count": 19,
   "id": "9b0dfad8-e6fc-4e0b-8684-b9474cb2b511",
   "metadata": {},
   "outputs": [],
   "source": [
    "def visualize_before_after(original, resized, title):\n",
    "    plt.figure(figsize=(15, 5))\n",
    "    plt.subplot(1, 3, 1)\n",
    "    plt.imshow(cv2.cvtColor(original, cv2.COLOR_BGR2RGB))\n",
    "    plt.title(f'{title} - Original')\n",
    "    plt.axis('off')\n",
    "\n",
    "    plt.subplot(1, 3, 3)\n",
    "    plt.imshow(resized, cmap='gray')\n",
    "    plt.title(f'{title} - Resized')\n",
    "    plt.axis('off')\n",
    "    plt.show()"
   ]
  },
  {
   "cell_type": "code",
   "execution_count": 20,
   "id": "d29979d5-6859-4f32-b84a-3d36683b6581",
   "metadata": {
    "scrolled": true
   },
   "outputs": [
    {
     "name": "stdout",
     "output_type": "stream",
     "text": [
      "0\n",
      "1\n",
      "2\n",
      "3\n",
      "0\n",
      "1\n",
      "2\n",
      "3\n",
      "0\n",
      "1\n",
      "2\n",
      "3\n"
     ]
    },
    {
     "data": {
      "image/png": "[encoded data removed]",
      "text/plain": [
       "<Figure size 1500x500 with 2 Axes>"
      ]
     },
     "metadata": {},
     "output_type": "display_data"
    }
   ],
   "source": [
    "original, resized, label = preprocess_image(h5_path)\n",
    "visualize_before_after(original, resized, f'Train {label}')"
   ]
  },
  {
   "cell_type": "code",
   "execution_count": 21,
   "id": "98b4493e-5dc2-4637-aba9-65452e28ca94",
   "metadata": {},
   "outputs": [
    {
     "name": "stdout",
     "output_type": "stream",
     "text": [
      "X_train shape: (744, 50, 50, 3)\n",
      "y_train shape: (744,)\n",
      "X_test shape: (248, 50, 50, 3)\n",
      "y_test shape: (248,)\n",
      "X_valid shape: (248, 50, 50, 3)\n",
      "y_valid shape: (248,)\n"
     ]
    }
   ],
   "source": [
    "X_train = np.array(X_train)\n",
    "y_train = np.array(y_train)\n",
    "X_test = np.array(X_test)\n",
    "y_test = np.array(y_test)\n",
    "X_valid = np.array(X_valid)\n",
    "y_valid = np.array(y_valid)\n",
    "\n",
    "print(f\"X_train shape: {X_train.shape}\")\n",
    "print(f\"y_train shape: {y_train.shape}\")\n",
    "print(f\"X_test shape: {X_test.shape}\")\n",
    "print(f\"y_test shape: {y_test.shape}\")\n",
    "print(f\"X_valid shape: {X_valid.shape}\")\n",
    "print(f\"y_valid shape: {y_valid.shape}\")"
   ]
  },
  {
   "cell_type": "code",
   "execution_count": 22,
   "id": "bf7809e8-fd4d-44c6-8ec0-5147683fea27",
   "metadata": {},
   "outputs": [],
   "source": [
    "X_train = X_train / 255.0\n",
    "X_test = X_test / 255.0\n",
    "X_valid = X_valid / 255.0\n",
    "\n",
    "X_train_flat = X_train.reshape(X_train.shape[0], -1)\n",
    "X_test_flat = X_test.reshape(X_test.shape[0], -1)\n",
    "X_valid_flat = X_valid.reshape(X_test.shape[0], -1)\n",
    "\n"
   ]
  },
  {
   "cell_type": "code",
   "execution_count": 23,
   "id": "842213c9-68cf-4e4c-8590-14feaf5705fa",
   "metadata": {},
   "outputs": [
    {
     "data": {
      "text/plain": [
       "array([0, 0, 0, 0, 0, 0, 0, 0, 0, 0, 0, 0, 0, 0, 0, 0, 0, 0, 0, 0, 0, 0,\n",
       "       0, 0, 0, 0, 0, 0, 0, 0, 0, 0, 0, 0, 0, 0, 0, 0, 0, 0, 0, 0, 0, 0,\n",
       "       0, 0, 0, 0, 0, 0, 0, 0, 0, 0, 0, 0, 0, 0, 0, 0, 0, 0, 0, 0, 0, 0,\n",
       "       0, 0, 0, 0, 0, 0, 0, 0, 0, 0, 0, 0, 0, 0, 0, 0, 0, 0, 0, 0, 0, 0,\n",
       "       0, 0, 0, 0, 0, 0, 0, 0, 0, 0, 0, 0, 0, 0, 0, 0, 0, 0, 0, 0, 0, 0,\n",
       "       0, 0, 0, 0, 0, 0, 0, 0, 0, 0, 0, 0, 0, 0, 0, 0, 0, 0, 0, 0, 0, 0,\n",
       "       0, 0, 0, 0, 0, 0, 0, 0, 0, 0, 0, 0, 0, 0, 0, 0, 0, 0, 0, 0, 0, 0,\n",
       "       0, 0, 0, 0, 0, 0, 0, 0, 0, 0, 0, 0, 0, 0, 0, 0, 0, 0, 0, 0, 0, 0,\n",
       "       0, 0, 0, 0, 0, 0, 0, 0, 0, 0, 1, 1, 1, 1, 1, 1, 1, 1, 1, 1, 1, 1,\n",
       "       1, 1, 1, 1, 1, 1, 1, 1, 1, 1, 1, 1, 1, 1, 1, 1, 1, 1, 1, 1, 1, 1,\n",
       "       1, 1, 1, 1, 1, 1, 1, 1, 1, 1, 1, 1, 1, 1, 1, 1, 1, 1, 1, 1, 1, 1,\n",
       "       1, 1, 1, 1, 1, 1, 1, 1, 1, 1, 1, 1, 1, 1, 1, 1, 1, 1, 1, 1, 1, 1,\n",
       "       1, 1, 1, 1, 1, 1, 1, 1, 1, 1, 1, 1, 1, 1, 1, 1, 1, 1, 1, 1, 1, 1,\n",
       "       1, 1, 1, 1, 1, 1, 1, 1, 1, 1, 1, 1, 1, 1, 1, 1, 1, 1, 1, 1, 1, 1,\n",
       "       1, 1, 1, 1, 1, 1, 1, 1, 1, 1, 1, 1, 1, 1, 1, 1, 1, 1, 1, 1, 1, 1,\n",
       "       1, 1, 1, 1, 1, 1, 1, 1, 1, 1, 1, 1, 1, 1, 1, 1, 1, 1, 1, 1, 1, 1,\n",
       "       1, 1, 1, 1, 1, 1, 1, 1, 1, 1, 1, 1, 1, 1, 1, 1, 1, 1, 1, 1, 2, 2,\n",
       "       2, 2, 2, 2, 2, 2, 2, 2, 2, 2, 2, 2, 2, 2, 2, 2, 2, 2, 2, 2, 2, 2,\n",
       "       2, 2, 2, 2, 2, 2, 2, 2, 2, 2, 2, 2, 2, 2, 2, 2, 2, 2, 2, 2, 2, 2,\n",
       "       2, 2, 2, 2, 2, 2, 2, 2, 2, 2, 2, 2, 2, 2, 2, 2, 2, 2, 2, 2, 2, 2,\n",
       "       2, 2, 2, 2, 2, 2, 2, 2, 2, 2, 2, 2, 2, 2, 2, 2, 2, 2, 2, 2, 2, 2,\n",
       "       2, 2, 2, 2, 2, 2, 2, 2, 2, 2, 2, 2, 2, 2, 2, 2, 2, 2, 2, 2, 2, 2,\n",
       "       2, 2, 2, 2, 2, 2, 2, 2, 2, 2, 2, 2, 2, 2, 2, 2, 2, 2, 2, 2, 2, 2,\n",
       "       2, 2, 2, 2, 2, 2, 2, 2, 2, 2, 2, 2, 2, 2, 2, 2, 2, 2, 2, 2, 2, 2,\n",
       "       2, 2, 2, 2, 2, 2, 2, 2, 2, 2, 2, 2, 2, 2, 2, 2, 2, 2, 2, 2, 2, 2,\n",
       "       2, 2, 2, 2, 2, 2, 2, 2, 3, 3, 3, 3, 3, 3, 3, 3, 3, 3, 3, 3, 3, 3,\n",
       "       3, 3, 3, 3, 3, 3, 3, 3, 3, 3, 3, 3, 3, 3, 3, 3, 3, 3, 3, 3, 3, 3,\n",
       "       3, 3, 3, 3, 3, 3, 3, 3, 3, 3, 3, 3, 3, 3, 3, 3, 3, 3, 3, 3, 3, 3,\n",
       "       3, 3, 3, 3, 3, 3, 3, 3, 3, 3, 3, 3, 3, 3, 3, 3, 3, 3, 3, 3, 3, 3,\n",
       "       3, 3, 3, 3, 3, 3, 3, 3, 3, 3, 3, 3, 3, 3, 3, 3, 3, 3, 3, 3, 3, 3,\n",
       "       3, 3, 3, 3, 3, 3, 3, 3, 3, 3, 3, 3, 3, 3, 3, 3, 3, 3, 3, 3, 3, 3,\n",
       "       3, 3, 3, 3, 3, 3, 3, 3, 3, 3, 3, 3, 3, 3, 3, 3, 3, 3, 3, 3, 3, 3,\n",
       "       3, 3, 3, 3, 3, 3, 3, 3, 3, 3, 3, 3, 3, 3, 3, 3, 3, 3, 3, 3, 3, 3,\n",
       "       3, 3, 3, 3, 3, 3, 3, 3, 3, 3, 3, 3, 3, 3, 3, 3, 3, 3])"
      ]
     },
     "execution_count": 23,
     "metadata": {},
     "output_type": "execute_result"
    }
   ],
   "source": [
    "y_train"
   ]
  },
  {
   "cell_type": "markdown",
   "id": "25d3bee4-169e-4860-b368-9dcc97c724cc",
   "metadata": {},
   "source": [
    "## LDA Preprocessing"
   ]
  },
  {
   "cell_type": "code",
   "execution_count": 24,
   "id": "5d6b725b-e335-4f60-b1ab-167187bec518",
   "metadata": {},
   "outputs": [],
   "source": [
    "lda = LinearDiscriminantAnalysis(n_components=3)"
   ]
  },
  {
   "cell_type": "code",
   "execution_count": 25,
   "id": "b121c867-3be9-4f1c-89f4-c51d4e77fcc0",
   "metadata": {},
   "outputs": [],
   "source": [
    "lda.fit(X_train_flat, y_train)\n",
    "X_train_lda = lda.transform(X_train_flat)\n",
    "X_test_lda = lda.transform(X_test_flat)\n",
    "X_valid_lda = lda.transform(X_valid_flat)"
   ]
  },
  {
   "cell_type": "markdown",
   "id": "089fb4e4-67ea-443c-8923-01d51577f8d4",
   "metadata": {},
   "source": [
    "## Model Training"
   ]
  },
  {
   "cell_type": "markdown",
   "id": "5cd90bc5-3d72-4865-b90d-b7a97803b85f",
   "metadata": {},
   "source": [
    "### KNN"
   ]
  },
  {
   "cell_type": "code",
   "execution_count": 26,
   "id": "4b87b758-4dcd-44db-9142-b8b0e5830a63",
   "metadata": {},
   "outputs": [
    {
     "name": "stdout",
     "output_type": "stream",
     "text": [
      "Fitting 5 folds for each of 20 candidates, totalling 100 fits\n",
      "Best Parameters: {'n_neighbors': 3, 'p': 1, 'weights': 'uniform'}\n"
     ]
    }
   ],
   "source": [
    "from sklearn.model_selection import GridSearchCV\n",
    "from sklearn.neighbors import KNeighborsClassifier\n",
    "from sklearn.metrics import classification_report\n",
    "\n",
    "def perform_grid_search(model, param_grid, X_train, y_train, cv=5, scoring='accuracy', verbose=1, n_jobs=-1):\n",
    "\n",
    "    # Initialize the GridSearchCV object\n",
    "    grid_search = GridSearchCV(estimator=model, param_grid=param_grid, \n",
    "                               cv=cv, scoring=scoring, verbose=verbose, n_jobs=n_jobs)\n",
    "    \n",
    "    # Fit the grid search to the data\n",
    "    grid_search.fit(X_train, y_train)\n",
    "    \n",
    "    # Get the best estimator and best parameters\n",
    "    best_estimator = grid_search.best_estimator_\n",
    "    best_params = grid_search.best_params_\n",
    "    \n",
    "    print(f\"Best Parameters: {best_params}\")\n",
    "    return best_estimator, best_params\n",
    "\n",
    "# Define the model\n",
    "#Best Parameters: {'C': 10, 'gamma': 0.01, 'kernel': 'rbf'}\n",
    "model =  KNeighborsClassifier()\n",
    "\n",
    "# Define the parameter grid for SVM\n",
    "param_grid = {\n",
    "    \n",
    "    'n_neighbors': [3, 5, 7, 9, 11],\n",
    "    'weights': ['uniform', 'distance'],\n",
    "    'p': [1, 2]  \n",
    "   \n",
    "}\n",
    "\n",
    "# Perform grid search\n",
    "knn_best_model, best_hyperparams = perform_grid_search(model, param_grid, X_train_lda, y_train)\n",
    "\n",
    "# Evaluate the best model on the test set\n",
    "y_pred = knn_best_model.predict(X_test_lda)\n"
   ]
  },
  {
   "cell_type": "code",
   "execution_count": 27,
   "id": "5a5d59fd-e5e9-4fbc-9909-824a5886f983",
   "metadata": {},
   "outputs": [
    {
     "name": "stdout",
     "output_type": "stream",
     "text": [
      "KNN Training Accuracy: 100.00%\n",
      "KNN Testing Accuracy: 88.71%\n",
      "KNN Validation Accuracy: 82.26%\n",
      "Classification Report: \n",
      "               precision    recall  f1-score   support\n",
      "\n",
      "           0       1.00      0.90      0.95        62\n",
      "           1       0.94      0.81      0.87        62\n",
      "           2       0.85      0.90      0.88        62\n",
      "           3       0.79      0.94      0.86        62\n",
      "\n",
      "    accuracy                           0.89       248\n",
      "   macro avg       0.90      0.89      0.89       248\n",
      "weighted avg       0.90      0.89      0.89       248\n",
      "\n",
      "Confusion Matrix:\n",
      " [[56  0  3  3]\n",
      " [ 0 50  3  9]\n",
      " [ 0  3 56  3]\n",
      " [ 0  0  4 58]]\n"
     ]
    }
   ],
   "source": [
    "knn = knn_best_model\n",
    "\n",
    "knn.fit(X_train_lda, y_train)\n",
    "\n",
    "train_pred_knn = knn.predict(X_train_lda)\n",
    "test_pred_knn = knn.predict(X_test_lda)\n",
    "valid_pred_knn = knn.predict(X_valid_lda)\n",
    "\n",
    "train_accuracy_knn = accuracy_score(y_train, train_pred_knn)\n",
    "test_accuracy_knn = accuracy_score(y_test, test_pred_knn)\n",
    "valid_accuracy_knn = accuracy_score(y_valid, valid_pred_knn)\n",
    "\n",
    "print(\"KNN Training Accuracy: {:.2f}%\".format(train_accuracy_knn * 100))\n",
    "print(\"KNN Testing Accuracy: {:.2f}%\".format(test_accuracy_knn * 100))\n",
    "print(\"KNN Validation Accuracy: {:.2f}%\".format(valid_accuracy_knn * 100))\n",
    "\n",
    "print(\"Classification Report: \\n\", classification_report(y_test, test_pred_knn))\n",
    "print(\"Confusion Matrix:\\n\", confusion_matrix(y_test, test_pred_knn))"
   ]
  },
  {
   "cell_type": "markdown",
   "id": "eb0fdaf2-85e0-4337-9563-025d9be94e9d",
   "metadata": {},
   "source": [
    "### SVM"
   ]
  },
  {
   "cell_type": "code",
   "execution_count": 28,
   "id": "4c4c2f02-5946-4b2f-809f-d1271e7491bc",
   "metadata": {},
   "outputs": [
    {
     "name": "stdout",
     "output_type": "stream",
     "text": [
      "Fitting 5 folds for each of 36 candidates, totalling 180 fits\n",
      "Best Parameters: {'C': 0.1, 'gamma': 1, 'kernel': 'linear'}\n"
     ]
    }
   ],
   "source": [
    "from sklearn.model_selection import GridSearchCV\n",
    "from sklearn.svm import SVC\n",
    "\n",
    "def perform_grid_search(model, param_grid, X_train, y_train, cv=5, scoring='accuracy', verbose=1, n_jobs=-1):\n",
    "\n",
    "    # Initialize the GridSearchCV object\n",
    "    grid_search = GridSearchCV(estimator=model, param_grid=param_grid, \n",
    "                               cv=cv, scoring=scoring, verbose=verbose, n_jobs=n_jobs)\n",
    "    \n",
    "    # Fit the grid search to the data\n",
    "    grid_search.fit(X_train, y_train)\n",
    "    \n",
    "    # Get the best estimator and best parameters\n",
    "    best_estimator = grid_search.best_estimator_\n",
    "    best_params = grid_search.best_params_\n",
    "    \n",
    "    print(f\"Best Parameters: {best_params}\")\n",
    "    return best_estimator, best_params\n",
    "    \n",
    "# Define the model\n",
    "#Best Parameters: {'C': 10, 'gamma': 0.01, 'kernel': 'rbf'}\n",
    "model = SVC()\n",
    "\n",
    "# Define the parameter grid for SVM\n",
    "param_grid = {\n",
    "    'C': [0.1, 1, 10],\n",
    "    'gamma': [1, 0.1, 0.01],\n",
    "    'kernel': ['linear', 'poly', 'rbf', 'sigmoid'],\n",
    "   \n",
    "}\n",
    "\n",
    "# Perform grid search\n",
    "svm_best_model, best_hyperparams = perform_grid_search(model, param_grid, X_train_lda, y_train)\n",
    "\n",
    "# Evaluate the best model on the test set\n",
    "y_pred = svm_best_model.predict(X_test_lda)\n"
   ]
  },
  {
   "cell_type": "code",
   "execution_count": 29,
   "id": "26ae7262-ac6b-45ba-8170-d370743f26fa",
   "metadata": {},
   "outputs": [
    {
     "name": "stdout",
     "output_type": "stream",
     "text": [
      "SVM Training Accuracy: 100.00%\n",
      "SVM Testing Accuracy: 89.52%\n",
      "SVM Validation Accuracy: 81.85%\n",
      "Classification Report: \n",
      "               precision    recall  f1-score   support\n",
      "\n",
      "           0       1.00      0.89      0.94        62\n",
      "           1       0.95      0.87      0.91        62\n",
      "           2       0.85      0.90      0.88        62\n",
      "           3       0.81      0.92      0.86        62\n",
      "\n",
      "    accuracy                           0.90       248\n",
      "   macro avg       0.90      0.90      0.90       248\n",
      "weighted avg       0.90      0.90      0.90       248\n",
      "\n",
      "Confusion Matrix:\n",
      " [[55  0  3  4]\n",
      " [ 0 54  2  6]\n",
      " [ 0  3 56  3]\n",
      " [ 0  0  5 57]]\n"
     ]
    }
   ],
   "source": [
    " import pandas as pd\n",
    "\n",
    "from sklearn.svm import SVC\n",
    "from sklearn.metrics import accuracy_score, classification_report\n",
    "\n",
    "# Initialize and train the SVM classifier\n",
    "svm = svm_best_model\n",
    "svm.fit(X_train_lda, y_train)\n",
    "\n",
    "# Predict on the test set\n",
    "svm_train_pred = svm.predict(X_train_lda)\n",
    "svm_test_pred = svm.predict(X_test_lda)\n",
    "svm_valid_pred = svm.predict(X_valid_lda)\n",
    "\n",
    "\n",
    "# Evaluate the classifier\n",
    "svm_train_accuracy = accuracy_score(y_train, svm_train_pred)\n",
    "svm_test_accuracy = accuracy_score(y_test, svm_test_pred)\n",
    "svm_valid_accuracy = accuracy_score(y_valid, svm_valid_pred)\n",
    "\n",
    "\n",
    "print(\"SVM Training Accuracy: {:.2f}%\".format(svm_train_accuracy * 100))\n",
    "print(\"SVM Testing Accuracy: {:.2f}%\".format(svm_test_accuracy * 100))\n",
    "print(\"SVM Validation Accuracy: {:.2f}%\".format(svm_valid_accuracy * 100))\n",
    "print(\"Classification Report: \\n\", classification_report(y_test, svm_test_pred))\n",
    "print(\"Confusion Matrix:\\n\", confusion_matrix(y_test, svm_test_pred))\n"
   ]
  },
  {
   "cell_type": "markdown",
   "id": "e46a1e68-9b76-45ff-b548-588b72c9cfe0",
   "metadata": {},
   "source": [
    "### Random Forest"
   ]
  },
  {
   "cell_type": "code",
   "execution_count": 30,
   "id": "dab79d22-50d9-4911-8ba6-93dd7673a38e",
   "metadata": {},
   "outputs": [
    {
     "name": "stdout",
     "output_type": "stream",
     "text": [
      "Fitting 5 folds for each of 36 candidates, totalling 180 fits\n",
      "Best Parameters: {'max_depth': None, 'min_samples_split': 2, 'n_estimators': 10}\n"
     ]
    }
   ],
   "source": [
    "from sklearn.model_selection import GridSearchCV\n",
    "from sklearn.ensemble import RandomForestClassifier\n",
    "from sklearn.metrics import classification_report\n",
    "\n",
    "def perform_grid_search(model, param_grid, X_train, y_train, cv=5, scoring='accuracy', verbose=1, n_jobs=-1):\n",
    " \n",
    "    # Initialize the GridSearchCV object\n",
    "    grid_search = GridSearchCV(estimator=model, param_grid=param_grid, \n",
    "                               cv=cv, scoring=scoring, verbose=verbose, n_jobs=n_jobs)\n",
    "    \n",
    "    # Fit the grid search to the data\n",
    "    grid_search.fit(X_train, y_train)\n",
    "    \n",
    "    # Get the best estimator and best parameters\n",
    "    best_estimator = grid_search.best_estimator_\n",
    "    best_params = grid_search.best_params_\n",
    "    \n",
    "    print(f\"Best Parameters: {best_params}\")\n",
    "    return best_estimator, best_params\n",
    "\n",
    "# Define the model\n",
    "model = RandomForestClassifier()\n",
    "\n",
    "# Define the parameter grid for SVM\n",
    "param_grid = {\n",
    "    'n_estimators': [10,50,100],\n",
    "    'max_depth': [None,10,30,50],\n",
    "    'min_samples_split': [2,5,10],\n",
    "\n",
    "   \n",
    "}\n",
    "\n",
    "# Perform grid search\n",
    "rf_best_model, best_hyperparams = perform_grid_search(model, param_grid, X_train_lda, y_train)\n",
    "\n",
    "# Evaluate the best model on the test set\n",
    "y_pred = rf_best_model.predict(X_test_lda)\n"
   ]
  },
  {
   "cell_type": "code",
   "execution_count": 31,
   "id": "ac9d9c31-130f-47c6-afac-e6e2f85a453f",
   "metadata": {},
   "outputs": [
    {
     "name": "stdout",
     "output_type": "stream",
     "text": [
      "Random Forest Training Accuracy: 100.00%\n",
      "Random Forest Testing Accuracy: 87.50%\n",
      "Random Forest Validation Accuracy: 77.42%\n",
      "Classification Report: \n",
      "               precision    recall  f1-score   support\n",
      "\n",
      "           0       0.89      0.87      0.88        62\n",
      "           1       0.86      0.79      0.82        62\n",
      "           2       0.90      0.84      0.87        62\n",
      "           3       0.86      1.00      0.93        62\n",
      "\n",
      "    accuracy                           0.88       248\n",
      "   macro avg       0.88      0.88      0.87       248\n",
      "weighted avg       0.88      0.88      0.87       248\n",
      "\n",
      "Confusion Matrix:\n",
      " [[54  1  2  5]\n",
      " [ 5 49  4  4]\n",
      " [ 2  7 52  1]\n",
      " [ 0  0  0 62]]\n"
     ]
    }
   ],
   "source": [
    "import numpy as np\n",
    "from sklearn.datasets import load_iris\n",
    "from sklearn.model_selection import train_test_split\n",
    "from sklearn.ensemble import RandomForestClassifier\n",
    "from sklearn.metrics import accuracy_score, classification_report\n",
    "\n",
    "# Initialize and train the Naive Bayes classifier\n",
    "#Best Parameters: {'max_depth': 50, 'max_features': 'log2', 'min_samples_leaf': 2, 'min_samples_split': 2, 'n_estimators': 200}\n",
    "rf_model = rf_best_model\n",
    "rf_model.fit(X_train_lda, y_train)\n",
    "\n",
    "rf_train_pred = rf_model.predict(X_train_lda)\n",
    "rf_test_pred = rf_model.predict(X_test_lda)\n",
    "rf_valid_pred = rf_model.predict(X_valid_lda)\n",
    "\n",
    "\n",
    "\n",
    "rf_train_accuracy = accuracy_score(y_train, rf_train_pred)\n",
    "rf_test_accuracy = accuracy_score(y_test, rf_test_pred)\n",
    "rf_valid_accuracy = accuracy_score(y_valid, rf_valid_pred)\n",
    "\n",
    "\n",
    "print(\"Random Forest Training Accuracy: {:.2f}%\".format(rf_train_accuracy * 100))\n",
    "print(\"Random Forest Testing Accuracy: {:.2f}%\".format(rf_test_accuracy * 100))\n",
    "print(\"Random Forest Validation Accuracy: {:.2f}%\".format(rf_valid_accuracy * 100))\n",
    "print(\"Classification Report: \\n\", classification_report(y_test, rf_test_pred))\n",
    "print(\"Confusion Matrix:\\n\", confusion_matrix(y_test, rf_test_pred))\n"
   ]
  },
  {
   "cell_type": "markdown",
   "id": "30400d5e-e2f1-49b8-9c00-1fed945c11e9",
   "metadata": {},
   "source": [
    "### Decision Tree"
   ]
  },
  {
   "cell_type": "code",
   "execution_count": 32,
   "id": "b0ac1083-af2e-4e7a-b2e8-7d88edbe6071",
   "metadata": {},
   "outputs": [
    {
     "name": "stdout",
     "output_type": "stream",
     "text": [
      "Fitting 5 folds for each of 9 candidates, totalling 45 fits\n",
      "Best Parameters: {'max_depth': 10, 'min_samples_split': 10}\n"
     ]
    }
   ],
   "source": [
    "from sklearn.tree import DecisionTreeClassifier\n",
    "from sklearn.ensemble import GradientBoostingClassifier\n",
    "\n",
    "def perform_grid_search(model, param_grid, X_train, y_train, cv=5, scoring='accuracy', verbose=1, n_jobs=-1):\n",
    " \n",
    "    # Initialize the GridSearchCV object\n",
    "    grid_search = GridSearchCV(estimator=model, param_grid=param_grid, \n",
    "                               cv=cv, scoring=scoring, verbose=verbose, n_jobs=n_jobs)\n",
    "    \n",
    "    # Fit the grid search to the data\n",
    "    grid_search.fit(X_train, y_train)\n",
    "    \n",
    "    # Get the best estimator and best parameters\n",
    "    best_estimator = grid_search.best_estimator_\n",
    "    best_params = grid_search.best_params_\n",
    "    \n",
    "    print(f\"Best Parameters: {best_params}\")\n",
    "    return best_estimator, best_params\n",
    "\n",
    "# Define the model\n",
    "model = DecisionTreeClassifier()\n",
    "\n",
    "# Define the parameter grid for SVM\n",
    "param_grid = {\n",
    "\n",
    "    'max_depth': [10, 30, 50],\n",
    "    'min_samples_split': [2, 5, 10],\n",
    "\n",
    "\n",
    "   \n",
    "}\n",
    "\n",
    "# Perform grid search\n",
    "dt_best_model, best_hyperparams = perform_grid_search(model, param_grid, X_train_lda, y_train)\n",
    "\n",
    "# Evaluate the best model on the test set\n",
    "y_pred = dt_best_model.predict(X_test_lda)"
   ]
  },
  {
   "cell_type": "code",
   "execution_count": 33,
   "id": "4428bd79-2eac-441d-898c-330cfe3d8694",
   "metadata": {},
   "outputs": [
    {
     "name": "stdout",
     "output_type": "stream",
     "text": [
      "Decision Tree Training Accuracy: 100.00%\n",
      "Decision Tree  Testing Accuracy: 79.84%\n",
      "Decision Tree  Validation Accuracy: 79.03%\n",
      "Classification Report: \n",
      "               precision    recall  f1-score   support\n",
      "\n",
      "           0       1.00      0.79      0.88        62\n",
      "           1       0.89      0.77      0.83        62\n",
      "           2       0.79      0.84      0.81        62\n",
      "           3       0.62      0.79      0.70        62\n",
      "\n",
      "    accuracy                           0.80       248\n",
      "   macro avg       0.82      0.80      0.80       248\n",
      "weighted avg       0.82      0.80      0.80       248\n",
      "\n",
      "Confusion Matrix:\n",
      " [[49  0  1 12]\n",
      " [ 0 48  3 11]\n",
      " [ 0  3 52  7]\n",
      " [ 0  3 10 49]]\n"
     ]
    }
   ],
   "source": [
    "from sklearn.tree import DecisionTreeClassifier\n",
    "from sklearn.metrics import accuracy_score, classification_report\n",
    "import matplotlib.pyplot as plt\n",
    "from sklearn.tree import plot_tree\n",
    "\n",
    "# Initialize and train the Naive Bayes classifier\n",
    "dt_model = dt_best_model\n",
    "dt_model.fit(X_train_lda, y_train)\n",
    "\n",
    "dt_train_pred = dt_model.predict(X_train_lda)\n",
    "dt_test_pred = dt_model.predict(X_test_lda)\n",
    "dt_valid_pred = dt_model.predict(X_valid_lda)\n",
    "\n",
    "\n",
    "\n",
    "dt_train_accuracy = accuracy_score(y_train, dt_train_pred)\n",
    "dt_test_accuracy = accuracy_score(y_test, dt_test_pred)\n",
    "dt_valid_accuracy = accuracy_score(y_valid, dt_valid_pred)\n",
    "\n",
    "\n",
    "print(\"Decision Tree Training Accuracy: {:.2f}%\".format(dt_train_accuracy * 100))\n",
    "print(\"Decision Tree  Testing Accuracy: {:.2f}%\".format(dt_test_accuracy * 100))\n",
    "print(\"Decision Tree  Validation Accuracy: {:.2f}%\".format(dt_valid_accuracy * 100))\n",
    "print(\"Classification Report: \\n\", classification_report(y_test, dt_test_pred))\n",
    "print(\"Confusion Matrix:\\n\", confusion_matrix(y_test, dt_test_pred))"
   ]
  },
  {
   "cell_type": "markdown",
   "id": "940c06a0-3fbc-464a-b824-160db340ded0",
   "metadata": {},
   "source": [
    "## Comparison"
   ]
  },
  {
   "cell_type": "code",
   "execution_count": 34,
   "id": "6c6db1b3-2e1d-4277-9c44-1b8568d4fce0",
   "metadata": {},
   "outputs": [
    {
     "data": {
      "image/png": "[encoded data removed]",
      "text/plain": [
       "<Figure size 1000x600 with 1 Axes>"
      ]
     },
     "metadata": {},
     "output_type": "display_data"
    }
   ],
   "source": [
    "import matplotlib.pyplot as plt\n",
    "\n",
    "\n",
    "# Data\n",
    "algorithms = ['KNN','SVM','Random Forest','Decision Tree' ]\n",
    "accuracies = [test_accuracy_knn , svm_test_accuracy , rf_test_accuracy, dt_test_accuracy]\n",
    "\n",
    "# Create line plot\n",
    "plt.figure(figsize=(10, 6))\n",
    "plt.plot(algorithms, accuracies, marker='o', linestyle='-', color='skyblue')\n",
    "\n",
    "# Add title and labels\n",
    "plt.title('Algorithm Accuracies')\n",
    "plt.xlabel('Algorithm')\n",
    "plt.ylabel('Accuracy')\n",
    "\n",
    "# Display the plot\n",
    "plt.show()\n"
   ]
  },
  {
   "cell_type": "markdown",
   "id": "6d5d88aa-28e5-406e-a4d5-5bca5924a285",
   "metadata": {},
   "source": [
    "## KMeans"
   ]
  },
  {
   "cell_type": "code",
   "execution_count": 35,
   "id": "39c38343-e2e4-4f08-b0dd-423c0398c7d0",
   "metadata": {},
   "outputs": [
    {
     "name": "stderr",
     "output_type": "stream",
     "text": [
      "C:\\Users\\User\\anaconda3\\Lib\\site-packages\\sklearn\\cluster\\_kmeans.py:870: FutureWarning: The default value of `n_init` will change from 10 to 'auto' in 1.4. Set the value of `n_init` explicitly to suppress the warning\n",
      "  warnings.warn(\n",
      "C:\\Users\\User\\anaconda3\\Lib\\site-packages\\sklearn\\cluster\\_kmeans.py:1382: UserWarning: KMeans is known to have a memory leak on Windows with MKL, when there are less chunks than available threads. You can avoid it by setting the environment variable OMP_NUM_THREADS=3.\n",
      "  warnings.warn(\n"
     ]
    },
    {
     "data": {
      "text/html": [
       "<style>#sk-container-id-1 {color: black;background-color: white;}#sk-container-id-1 pre{padding: 0;}#sk-container-id-1 div.sk-toggleable {background-color: white;}#sk-container-id-1 label.sk-toggleable__label {cursor: pointer;display: block;width: 100%;margin-bottom: 0;padding: 0.3em;box-sizing: border-box;text-align: center;}#sk-container-id-1 label.sk-toggleable__label-arrow:before {content: \"▸\";float: left;margin-right: 0.25em;color: #696969;}#sk-container-id-1 label.sk-toggleable__label-arrow:hover:before {color: black;}#sk-container-id-1 div.sk-estimator:hover label.sk-toggleable__label-arrow:before {color: black;}#sk-container-id-1 div.sk-toggleable__content {max-height: 0;max-width: 0;overflow: hidden;text-align: left;background-color: #f0f8ff;}#sk-container-id-1 div.sk-toggleable__content pre {margin: 0.2em;color: black;border-radius: 0.25em;background-color: #f0f8ff;}#sk-container-id-1 input.sk-toggleable__control:checked~div.sk-toggleable__content {max-height: 200px;max-width: 100%;overflow: auto;}#sk-container-id-1 input.sk-toggleable__control:checked~label.sk-toggleable__label-arrow:before {content: \"▾\";}#sk-container-id-1 div.sk-estimator input.sk-toggleable__control:checked~label.sk-toggleable__label {background-color: #d4ebff;}#sk-container-id-1 div.sk-label input.sk-toggleable__control:checked~label.sk-toggleable__label {background-color: #d4ebff;}#sk-container-id-1 input.sk-hidden--visually {border: 0;clip: rect(1px 1px 1px 1px);clip: rect(1px, 1px, 1px, 1px);height: 1px;margin: -1px;overflow: hidden;padding: 0;position: absolute;width: 1px;}#sk-container-id-1 div.sk-estimator {font-family: monospace;background-color: #f0f8ff;border: 1px dotted black;border-radius: 0.25em;box-sizing: border-box;margin-bottom: 0.5em;}#sk-container-id-1 div.sk-estimator:hover {background-color: #d4ebff;}#sk-container-id-1 div.sk-parallel-item::after {content: \"\";width: 100%;border-bottom: 1px solid gray;flex-grow: 1;}#sk-container-id-1 div.sk-label:hover label.sk-toggleable__label {background-color: #d4ebff;}#sk-container-id-1 div.sk-serial::before {content: \"\";position: absolute;border-left: 1px solid gray;box-sizing: border-box;top: 0;bottom: 0;left: 50%;z-index: 0;}#sk-container-id-1 div.sk-serial {display: flex;flex-direction: column;align-items: center;background-color: white;padding-right: 0.2em;padding-left: 0.2em;position: relative;}#sk-container-id-1 div.sk-item {position: relative;z-index: 1;}#sk-container-id-1 div.sk-parallel {display: flex;align-items: stretch;justify-content: center;background-color: white;position: relative;}#sk-container-id-1 div.sk-item::before, #sk-container-id-1 div.sk-parallel-item::before {content: \"\";position: absolute;border-left: 1px solid gray;box-sizing: border-box;top: 0;bottom: 0;left: 50%;z-index: -1;}#sk-container-id-1 div.sk-parallel-item {display: flex;flex-direction: column;z-index: 1;position: relative;background-color: white;}#sk-container-id-1 div.sk-parallel-item:first-child::after {align-self: flex-end;width: 50%;}#sk-container-id-1 div.sk-parallel-item:last-child::after {align-self: flex-start;width: 50%;}#sk-container-id-1 div.sk-parallel-item:only-child::after {width: 0;}#sk-container-id-1 div.sk-dashed-wrapped {border: 1px dashed gray;margin: 0 0.4em 0.5em 0.4em;box-sizing: border-box;padding-bottom: 0.4em;background-color: white;}#sk-container-id-1 div.sk-label label {font-family: monospace;font-weight: bold;display: inline-block;line-height: 1.2em;}#sk-container-id-1 div.sk-label-container {text-align: center;}#sk-container-id-1 div.sk-container {/* jupyter's `normalize.less` sets `[hidden] { display: none; }` but bootstrap.min.css set `[hidden] { display: none !important; }` so we also need the `!important` here to be able to override the default hidden behavior on the sphinx rendered scikit-learn.org. See: https://github.com/scikit-learn/scikit-learn/issues/21755 */display: inline-block !important;position: relative;}#sk-container-id-1 div.sk-text-repr-fallback {display: none;}</style><div id=\"sk-container-id-1\" class=\"sk-top-container\"><div class=\"sk-text-repr-fallback\"><pre>KMeans(n_clusters=4, random_state=42)</pre><b>In a Jupyter environment, please rerun this cell to show the HTML representation or trust the notebook. <br />On GitHub, the HTML representation is unable to render, please try loading this page with nbviewer.org.</b></div><div class=\"sk-container\" hidden><div class=\"sk-item\"><div class=\"sk-estimator sk-toggleable\"><input class=\"sk-toggleable__control sk-hidden--visually\" id=\"sk-estimator-id-1\" type=\"checkbox\" checked><label for=\"sk-estimator-id-1\" class=\"sk-toggleable__label sk-toggleable__label-arrow\">KMeans</label><div class=\"sk-toggleable__content\"><pre>KMeans(n_clusters=4, random_state=42)</pre></div></div></div></div></div>"
      ],
      "text/plain": [
       "KMeans(n_clusters=4, random_state=42)"
      ]
     },
     "execution_count": 35,
     "metadata": {},
     "output_type": "execute_result"
    }
   ],
   "source": [
    "# Build the clustering model\n",
    "kmeans = KMeans(n_clusters=4, random_state=42)\n",
    "kmeans.fit(X_train_lda)"
   ]
  },
  {
   "cell_type": "code",
   "execution_count": 36,
   "id": "1d319b5f-5644-4282-a469-78ddf7808de9",
   "metadata": {},
   "outputs": [
    {
     "name": "stdout",
     "output_type": "stream",
     "text": [
      "KMeans Clustering Accuracy: 28.629032%\n",
      "Classification Report:\n",
      "               precision    recall  f1-score   support\n",
      "\n",
      "           0       1.00      0.89      0.94        62\n",
      "           1       0.09      0.10      0.09        62\n",
      "           2       0.09      0.08      0.08        62\n",
      "           3       0.08      0.08      0.08        62\n",
      "\n",
      "    accuracy                           0.29       248\n",
      "   macro avg       0.31      0.29      0.30       248\n",
      "weighted avg       0.31      0.29      0.30       248\n",
      "\n",
      "Confusion Matrix:\n",
      " [[55  4  0  3]\n",
      " [ 0  6 52  4]\n",
      " [ 0  3  5 54]\n",
      " [ 0 57  0  5]]\n"
     ]
    }
   ],
   "source": [
    "y_pred_test_kmeans = kmeans.predict(X_test_lda)\n",
    "accuracy_kmeans = accuracy_score(y_test, y_pred_test_kmeans)\n",
    "print(\"KMeans Clustering Accuracy: {:2f}%\".format(accuracy_kmeans * 100))\n",
    "print(\"Classification Report:\\n\", classification_report(y_test, y_pred_test_kmeans))\n",
    "print(\"Confusion Matrix:\\n\", confusion_matrix(y_test, y_pred_test_kmeans))"
   ]
  },
  {
   "cell_type": "code",
   "execution_count": 37,
   "id": "3ee27eec-7673-4b27-8724-9e83b246e6e3",
   "metadata": {},
   "outputs": [
    {
     "data": {
      "image/png": "[encoded data removed]",
      "text/plain": [
       "<Figure size 640x480 with 1 Axes>"
      ]
     },
     "metadata": {},
     "output_type": "display_data"
    }
   ],
   "source": [
    "plt.scatter(X_test_lda[:, 0], X_test_lda[:, 1], c=y_pred_test_kmeans, s=50, cmap='viridis')\n",
    "centers = kmeans.cluster_centers_\n",
    "plt.scatter(centers[:, 0], centers[:, 1], c='black', s=300, alpha=0.5);\n",
    "plt.show()"
   ]
  },
  {
   "cell_type": "markdown",
   "id": "7c5559b8-26ce-4786-bee1-30754bed2c7b",
   "metadata": {},
   "source": [
    "### P"
   ]
  },
  {
   "cell_type": "code",
   "execution_count": 38,
   "id": "4ff65912-553a-449e-9b39-460b7293fdbe",
   "metadata": {},
   "outputs": [
    {
     "name": "stdout",
     "output_type": "stream",
     "text": [
      "Requirement already satisfied: tensorflow in c:\\users\\user\\anaconda3\\lib\\site-packages (2.16.1)\n",
      "Requirement already satisfied: tensorflow-intel==2.16.1 in c:\\users\\user\\anaconda3\\lib\\site-packages (from tensorflow) (2.16.1)\n",
      "Requirement already satisfied: absl-py>=1.0.0 in c:\\users\\user\\anaconda3\\lib\\site-packages (from tensorflow-intel==2.16.1->tensorflow) (2.1.0)\n",
      "Requirement already satisfied: astunparse>=1.6.0 in c:\\users\\user\\anaconda3\\lib\\site-packages (from tensorflow-intel==2.16.1->tensorflow) (1.6.3)\n",
      "Requirement already satisfied: flatbuffers>=23.5.26 in c:\\users\\user\\anaconda3\\lib\\site-packages (from tensorflow-intel==2.16.1->tensorflow) (24.3.25)\n",
      "Requirement already satisfied: gast!=0.5.0,!=0.5.1,!=0.5.2,>=0.2.1 in c:\\users\\user\\anaconda3\\lib\\site-packages (from tensorflow-intel==2.16.1->tensorflow) (0.5.4)\n",
      "Requirement already satisfied: google-pasta>=0.1.1 in c:\\users\\user\\anaconda3\\lib\\site-packages (from tensorflow-intel==2.16.1->tensorflow) (0.2.0)\n",
      "Requirement already satisfied: h5py>=3.10.0 in c:\\users\\user\\anaconda3\\lib\\site-packages (from tensorflow-intel==2.16.1->tensorflow) (3.11.0)\n",
      "Requirement already satisfied: libclang>=13.0.0 in c:\\users\\user\\anaconda3\\lib\\site-packages (from tensorflow-intel==2.16.1->tensorflow) (18.1.1)\n",
      "Requirement already satisfied: ml-dtypes~=0.3.1 in c:\\users\\user\\anaconda3\\lib\\site-packages (from tensorflow-intel==2.16.1->tensorflow) (0.3.2)\n",
      "Requirement already satisfied: opt-einsum>=2.3.2 in c:\\users\\user\\anaconda3\\lib\\site-packages (from tensorflow-intel==2.16.1->tensorflow) (3.3.0)\n",
      "Requirement already satisfied: packaging in c:\\users\\user\\anaconda3\\lib\\site-packages (from tensorflow-intel==2.16.1->tensorflow) (23.1)\n",
      "Requirement already satisfied: protobuf!=4.21.0,!=4.21.1,!=4.21.2,!=4.21.3,!=4.21.4,!=4.21.5,<5.0.0dev,>=3.20.3 in c:\\users\\user\\anaconda3\\lib\\site-packages (from tensorflow-intel==2.16.1->tensorflow) (3.20.3)\n",
      "Requirement already satisfied: requests<3,>=2.21.0 in c:\\users\\user\\anaconda3\\lib\\site-packages (from tensorflow-intel==2.16.1->tensorflow) (2.31.0)\n",
      "Requirement already satisfied: setuptools in c:\\users\\user\\anaconda3\\lib\\site-packages (from tensorflow-intel==2.16.1->tensorflow) (68.2.2)\n",
      "Requirement already satisfied: six>=1.12.0 in c:\\users\\user\\anaconda3\\lib\\site-packages (from tensorflow-intel==2.16.1->tensorflow) (1.16.0)\n",
      "Requirement already satisfied: termcolor>=1.1.0 in c:\\users\\user\\anaconda3\\lib\\site-packages (from tensorflow-intel==2.16.1->tensorflow) (2.4.0)\n",
      "Requirement already satisfied: typing-extensions>=3.6.6 in c:\\users\\user\\anaconda3\\lib\\site-packages (from tensorflow-intel==2.16.1->tensorflow) (4.9.0)\n",
      "Requirement already satisfied: wrapt>=1.11.0 in c:\\users\\user\\anaconda3\\lib\\site-packages (from tensorflow-intel==2.16.1->tensorflow) (1.14.1)\n",
      "Requirement already satisfied: grpcio<2.0,>=1.24.3 in c:\\users\\user\\anaconda3\\lib\\site-packages (from tensorflow-intel==2.16.1->tensorflow) (1.62.1)\n",
      "Requirement already satisfied: tensorboard<2.17,>=2.16 in c:\\users\\user\\anaconda3\\lib\\site-packages (from tensorflow-intel==2.16.1->tensorflow) (2.16.2)\n",
      "Requirement already satisfied: keras>=3.0.0 in c:\\users\\user\\anaconda3\\lib\\site-packages (from tensorflow-intel==2.16.1->tensorflow) (3.2.0)\n",
      "Requirement already satisfied: tensorflow-io-gcs-filesystem>=0.23.1 in c:\\users\\user\\anaconda3\\lib\\site-packages (from tensorflow-intel==2.16.1->tensorflow) (0.31.0)\n",
      "Requirement already satisfied: numpy<2.0.0,>=1.23.5 in c:\\users\\user\\anaconda3\\lib\\site-packages (from tensorflow-intel==2.16.1->tensorflow) (1.26.4)\n",
      "Requirement already satisfied: wheel<1.0,>=0.23.0 in c:\\users\\user\\anaconda3\\lib\\site-packages (from astunparse>=1.6.0->tensorflow-intel==2.16.1->tensorflow) (0.41.2)\n",
      "Requirement already satisfied: rich in c:\\users\\user\\anaconda3\\lib\\site-packages (from keras>=3.0.0->tensorflow-intel==2.16.1->tensorflow) (13.3.5)\n",
      "Requirement already satisfied: namex in c:\\users\\user\\anaconda3\\lib\\site-packages (from keras>=3.0.0->tensorflow-intel==2.16.1->tensorflow) (0.0.7)\n",
      "Requirement already satisfied: optree in c:\\users\\user\\anaconda3\\lib\\site-packages (from keras>=3.0.0->tensorflow-intel==2.16.1->tensorflow) (0.11.0)\n",
      "Requirement already satisfied: charset-normalizer<4,>=2 in c:\\users\\user\\anaconda3\\lib\\site-packages (from requests<3,>=2.21.0->tensorflow-intel==2.16.1->tensorflow) (2.0.4)\n",
      "Requirement already satisfied: idna<4,>=2.5 in c:\\users\\user\\anaconda3\\lib\\site-packages (from requests<3,>=2.21.0->tensorflow-intel==2.16.1->tensorflow) (3.4)\n",
      "Requirement already satisfied: urllib3<3,>=1.21.1 in c:\\users\\user\\anaconda3\\lib\\site-packages (from requests<3,>=2.21.0->tensorflow-intel==2.16.1->tensorflow) (2.0.7)\n",
      "Requirement already satisfied: certifi>=2017.4.17 in c:\\users\\user\\anaconda3\\lib\\site-packages (from requests<3,>=2.21.0->tensorflow-intel==2.16.1->tensorflow) (2024.2.2)\n",
      "Requirement already satisfied: markdown>=2.6.8 in c:\\users\\user\\anaconda3\\lib\\site-packages (from tensorboard<2.17,>=2.16->tensorflow-intel==2.16.1->tensorflow) (3.4.1)\n",
      "Requirement already satisfied: tensorboard-data-server<0.8.0,>=0.7.0 in c:\\users\\user\\anaconda3\\lib\\site-packages (from tensorboard<2.17,>=2.16->tensorflow-intel==2.16.1->tensorflow) (0.7.2)\n",
      "Requirement already satisfied: werkzeug>=1.0.1 in c:\\users\\user\\anaconda3\\lib\\site-packages (from tensorboard<2.17,>=2.16->tensorflow-intel==2.16.1->tensorflow) (2.2.3)\n",
      "Requirement already satisfied: MarkupSafe>=2.1.1 in c:\\users\\user\\anaconda3\\lib\\site-packages (from werkzeug>=1.0.1->tensorboard<2.17,>=2.16->tensorflow-intel==2.16.1->tensorflow) (2.1.3)\n",
      "Requirement already satisfied: markdown-it-py<3.0.0,>=2.2.0 in c:\\users\\user\\anaconda3\\lib\\site-packages (from rich->keras>=3.0.0->tensorflow-intel==2.16.1->tensorflow) (2.2.0)\n",
      "Requirement already satisfied: pygments<3.0.0,>=2.13.0 in c:\\users\\user\\anaconda3\\lib\\site-packages (from rich->keras>=3.0.0->tensorflow-intel==2.16.1->tensorflow) (2.15.1)\n",
      "Requirement already satisfied: mdurl~=0.1 in c:\\users\\user\\anaconda3\\lib\\site-packages (from markdown-it-py<3.0.0,>=2.2.0->rich->keras>=3.0.0->tensorflow-intel==2.16.1->tensorflow) (0.1.0)\n",
      "Note: you may need to restart the kernel to use updated packages.\n"
     ]
    }
   ],
   "source": [
    "pip install tensorflow\n"
   ]
  },
  {
   "cell_type": "code",
   "execution_count": 39,
   "id": "f7fc9f1f-1dea-4272-bd55-a1bf512ecaa6",
   "metadata": {},
   "outputs": [],
   "source": [
    "import pickle\n",
    "\n",
    "# Assuming knn_model and svm_model are your trained models\n",
    "\n",
    "# Save LDA model\n",
    "with open('lda_model.pkl', 'wb') as lda_file:\n",
    "    pickle.dump(lda, lda_file)\n",
    "    \n",
    "# Save KNN model\n",
    "with open('knn_model.pkl', 'wb') as knn_file:\n",
    "    pickle.dump(knn, knn_file)\n",
    "\n",
    "# Save SVM model\n",
    "with open('svm_model.pkl', 'wb') as svm_file:\n",
    "    pickle.dump(svm, svm_file)\n",
    "\n",
    "# Save Random Forest model\n",
    "with open('rf_model.pkl', 'wb') as rf_file:\n",
    "    pickle.dump(rf_model, rf_file)\n",
    "\n",
    "# Save Diecision Tree model\n",
    "with open('dt_model.pkl', 'wb') as dt_file:\n",
    "    pickle.dump(dt_model, dt_file)\n"
   ]
  },
  {
   "cell_type": "code",
   "execution_count": 40,
   "id": "24a067a4-0598-4dcd-a346-435d6afb669a",
   "metadata": {},
   "outputs": [
    {
     "ename": "ValueError",
     "evalue": "Expected an object of type `Trackable`, such as `tf.Module` or a subclass of the `Trackable` class, for export. Got [KNeighborsClassifier(n_neighbors=3, p=1)] with type <class 'list'>.",
     "output_type": "error",
     "traceback": [
      "\u001b[1;31m---------------------------------------------------------------------------\u001b[0m",
      "\u001b[1;31mValueError\u001b[0m                                Traceback (most recent call last)",
      "Cell \u001b[1;32mIn[40], line 3\u001b[0m\n\u001b[0;32m      1\u001b[0m \u001b[38;5;28;01mimport\u001b[39;00m \u001b[38;5;21;01mtensorflow\u001b[39;00m \u001b[38;5;28;01mas\u001b[39;00m \u001b[38;5;21;01mtf\u001b[39;00m\n\u001b[1;32m----> 3\u001b[0m tf\u001b[38;5;241m.\u001b[39msaved_model\u001b[38;5;241m.\u001b[39msave([knn], \u001b[38;5;124m'\u001b[39m\u001b[38;5;124mPatternRecognition/Project/PatternRecognition\u001b[39m\u001b[38;5;124m'\u001b[39m)\n",
      "File \u001b[1;32m~\\anaconda3\\Lib\\site-packages\\tensorflow\\python\\saved_model\\save.py:1392\u001b[0m, in \u001b[0;36msave\u001b[1;34m(obj, export_dir, signatures, options)\u001b[0m\n\u001b[0;32m   1390\u001b[0m \u001b[38;5;66;03m# pylint: enable=line-too-long\u001b[39;00m\n\u001b[0;32m   1391\u001b[0m metrics\u001b[38;5;241m.\u001b[39mIncrementWriteApi(_SAVE_V2_LABEL)\n\u001b[1;32m-> 1392\u001b[0m save_and_return_nodes(obj, export_dir, signatures, options)\n\u001b[0;32m   1394\u001b[0m metrics\u001b[38;5;241m.\u001b[39mIncrementWrite(write_version\u001b[38;5;241m=\u001b[39m\u001b[38;5;124m\"\u001b[39m\u001b[38;5;124m2\u001b[39m\u001b[38;5;124m\"\u001b[39m)\n",
      "File \u001b[1;32m~\\anaconda3\\Lib\\site-packages\\tensorflow\\python\\saved_model\\save.py:1427\u001b[0m, in \u001b[0;36msave_and_return_nodes\u001b[1;34m(obj, export_dir, signatures, options, experimental_skip_checkpoint)\u001b[0m\n\u001b[0;32m   1423\u001b[0m saved_model \u001b[38;5;241m=\u001b[39m saved_model_pb2\u001b[38;5;241m.\u001b[39mSavedModel()\n\u001b[0;32m   1424\u001b[0m meta_graph_def \u001b[38;5;241m=\u001b[39m saved_model\u001b[38;5;241m.\u001b[39mmeta_graphs\u001b[38;5;241m.\u001b[39madd()\n\u001b[0;32m   1426\u001b[0m _, exported_graph, object_saver, asset_info, saved_nodes, node_paths \u001b[38;5;241m=\u001b[39m (\n\u001b[1;32m-> 1427\u001b[0m     _build_meta_graph(obj, signatures, options, meta_graph_def))\n\u001b[0;32m   1428\u001b[0m saved_model\u001b[38;5;241m.\u001b[39msaved_model_schema_version \u001b[38;5;241m=\u001b[39m (\n\u001b[0;32m   1429\u001b[0m     constants\u001b[38;5;241m.\u001b[39mSAVED_MODEL_SCHEMA_VERSION)\n\u001b[0;32m   1431\u001b[0m \u001b[38;5;66;03m# Write the checkpoint, copy assets into the assets directory, and write out\u001b[39;00m\n\u001b[0;32m   1432\u001b[0m \u001b[38;5;66;03m# the SavedModel proto itself.\u001b[39;00m\n",
      "File \u001b[1;32m~\\anaconda3\\Lib\\site-packages\\tensorflow\\python\\saved_model\\save.py:1642\u001b[0m, in \u001b[0;36m_build_meta_graph\u001b[1;34m(obj, signatures, options, meta_graph_def)\u001b[0m\n\u001b[0;32m   1615\u001b[0m \u001b[38;5;250m\u001b[39m\u001b[38;5;124;03m\"\"\"Creates a MetaGraph under a save context.\u001b[39;00m\n\u001b[0;32m   1616\u001b[0m \n\u001b[0;32m   1617\u001b[0m \u001b[38;5;124;03mArgs:\u001b[39;00m\n\u001b[1;32m   (...)\u001b[0m\n\u001b[0;32m   1638\u001b[0m \u001b[38;5;124;03m  saveable_view.node_paths: _SaveableView paths.\u001b[39;00m\n\u001b[0;32m   1639\u001b[0m \u001b[38;5;124;03m\"\"\"\u001b[39;00m\n\u001b[0;32m   1641\u001b[0m \u001b[38;5;28;01mwith\u001b[39;00m save_context\u001b[38;5;241m.\u001b[39msave_context(options):\n\u001b[1;32m-> 1642\u001b[0m   \u001b[38;5;28;01mreturn\u001b[39;00m _build_meta_graph_impl(obj, signatures, options, meta_graph_def)\n",
      "File \u001b[1;32m~\\anaconda3\\Lib\\site-packages\\tensorflow\\python\\saved_model\\save.py:1543\u001b[0m, in \u001b[0;36m_build_meta_graph_impl\u001b[1;34m(obj, signatures, options, meta_graph_def)\u001b[0m\n\u001b[0;32m   1541\u001b[0m \u001b[38;5;66;03m# pylint: enable=line-too-long\u001b[39;00m\n\u001b[0;32m   1542\u001b[0m \u001b[38;5;28;01mif\u001b[39;00m \u001b[38;5;129;01mnot\u001b[39;00m \u001b[38;5;28misinstance\u001b[39m(obj, base\u001b[38;5;241m.\u001b[39mTrackable):\n\u001b[1;32m-> 1543\u001b[0m   \u001b[38;5;28;01mraise\u001b[39;00m \u001b[38;5;167;01mValueError\u001b[39;00m(\n\u001b[0;32m   1544\u001b[0m       \u001b[38;5;124m\"\u001b[39m\u001b[38;5;124mExpected an object of type `Trackable`, such as `tf.Module` or a \u001b[39m\u001b[38;5;124m\"\u001b[39m\n\u001b[0;32m   1545\u001b[0m       \u001b[38;5;124mf\u001b[39m\u001b[38;5;124m\"\u001b[39m\u001b[38;5;124msubclass of the `Trackable` class, for export. Got \u001b[39m\u001b[38;5;132;01m{\u001b[39;00mobj\u001b[38;5;132;01m}\u001b[39;00m\u001b[38;5;124m \u001b[39m\u001b[38;5;124m\"\u001b[39m\n\u001b[0;32m   1546\u001b[0m       \u001b[38;5;124mf\u001b[39m\u001b[38;5;124m\"\u001b[39m\u001b[38;5;124mwith type \u001b[39m\u001b[38;5;132;01m{\u001b[39;00m\u001b[38;5;28mtype\u001b[39m(obj)\u001b[38;5;132;01m}\u001b[39;00m\u001b[38;5;124m.\u001b[39m\u001b[38;5;124m\"\u001b[39m\n\u001b[0;32m   1547\u001b[0m   )\n\u001b[0;32m   1548\u001b[0m meta_graph_def \u001b[38;5;241m=\u001b[39m meta_graph_def \u001b[38;5;129;01mor\u001b[39;00m meta_graph_pb2\u001b[38;5;241m.\u001b[39mMetaGraphDef()\n\u001b[0;32m   1550\u001b[0m augmented_graph_view \u001b[38;5;241m=\u001b[39m _AugmentedGraphView(obj)\n",
      "\u001b[1;31mValueError\u001b[0m: Expected an object of type `Trackable`, such as `tf.Module` or a subclass of the `Trackable` class, for export. Got [KNeighborsClassifier(n_neighbors=3, p=1)] with type <class 'list'>."
     ]
    }
   ],
   "source": [
    "import tensorflow as tf\n",
    "\n",
    "tf.saved_model.save([knn], 'PatternRecognition/Project/PatternRecognition')"
   ]
  },
  {
   "cell_type": "code",
   "execution_count": null,
   "id": "410407c2-1ec7-4b32-a241-a6bbc60482b8",
   "metadata": {},
   "outputs": [],
   "source": []
  }
 ],
 "metadata": {
  "kernelspec": {
   "display_name": "Python 3 (ipykernel)",
   "language": "python",
   "name": "python3"
  },
  "language_info": {
   "codemirror_mode": {
    "name": "ipython",
    "version": 3
   },
   "file_extension": ".py",
   "mimetype": "text/x-python",
   "name": "python",
   "nbconvert_exporter": "python",
   "pygments_lexer": "ipython3",
   "version": "3.11.7"
  }
 },
 "nbformat": 4,
 "nbformat_minor": 5
}
