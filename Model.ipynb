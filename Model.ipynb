{
 "cells": [
  {
   "cell_type": "markdown",
   "id": "acd5150b-4501-4aa9-a575-de41d3207f90",
   "metadata": {},
   "source": [
    "## Import File Image"
   ]
  },
  {
   "cell_type": "code",
   "execution_count": 1,
   "id": "68d872e2-fa26-43a1-8c2c-7c1953a1bd08",
   "metadata": {},
   "outputs": [],
   "source": [
    "import os\n",
    "import cv2\n",
    "import numpy as np\n",
    "import matplotlib.pyplot as plt\n",
    "from pathlib import Path\n",
    "import h5py\n",
    "\n",
    "from sklearn.discriminant_analysis import LinearDiscriminantAnalysis \n",
    "from sklearn.neighbors import KNeighborsClassifier\n",
    "from sklearn.cluster import KMeans\n",
    "from sklearn.metrics import accuracy_score, classification_report, confusion_matrix"
   ]
  },
  {
   "cell_type": "code",
   "execution_count": 2,
   "id": "62f6adfe-a304-4bdb-8c1c-f7e0aca39cef",
   "metadata": {},
   "outputs": [],
   "source": [
    "h5_path = 'C://Users//User//Downloads//Pattern Recognition Project//HDF5//image_data.h5'\n",
    "\n",
    "X_train = []\n",
    "y_train = []\n",
    "X_test = []\n",
    "y_test = []\n",
    "X_valid = []\n",
    "y_valid = []"
   ]
  },
  {
   "cell_type": "code",
   "execution_count": 3,
   "id": "7981ba2d-c7ea-47f5-b3b8-2cafa6394b8d",
   "metadata": {},
   "outputs": [],
   "source": [
    "def segment_background(image):\n",
    "    gray_image = cv2.cvtColor(image, cv2.COLOR_BGR2GRAY)\n",
    "    _, segmented_image = cv2.threshold(gray_image, 127, 255, cv2.THRESH_BINARY)\n",
    "    return segmented_image"
   ]
  },
  {
   "cell_type": "code",
   "execution_count": 4,
   "id": "5990221a-5507-4239-85ec-019c8aa628d7",
   "metadata": {},
   "outputs": [],
   "source": [
    "def preprocess_image(h5_path, size=(50, 50)):\n",
    "    with h5py.File(h5_path, 'r') as h5_file:\n",
    "        for split in ['train', 'test' , 'valid']:\n",
    "            split_group = h5_file[split]\n",
    "            for category in split_group.keys():\n",
    "                category_group = split_group[category]\n",
    "                print(category)\n",
    "                if category != \".ipynb_checkpoints\":\n",
    "                    label = int(category) \n",
    "                for image_name in category_group.keys():\n",
    "                    image_data = category_group[image_name][()]\n",
    "                    resized_image = cv2.resize(image_data, size)\n",
    "                    if split == 'train':\n",
    "                        X_train.append(resized_image)\n",
    "                        y_train.append(label)\n",
    "                    elif split == 'test':\n",
    "                        X_test.append(resized_image)\n",
    "                        y_test.append(label)\n",
    "                    elif split == 'valid':\n",
    "                        X_valid.append(resized_image)\n",
    "                        y_valid.append(label)\n",
    "\n",
    "    return image_data, resized_image, label"
   ]
  },
  {
   "cell_type": "code",
   "execution_count": 5,
   "id": "9b0dfad8-e6fc-4e0b-8684-b9474cb2b511",
   "metadata": {},
   "outputs": [],
   "source": [
    "def visualize_before_after(original, resized, title):\n",
    "    plt.figure(figsize=(15, 5))\n",
    "    plt.subplot(1, 3, 1)\n",
    "    plt.imshow(cv2.cvtColor(original, cv2.COLOR_BGR2RGB))\n",
    "    plt.title(f'{title} - Original')\n",
    "    plt.axis('off')\n",
    "\n",
    "    plt.subplot(1, 3, 3)\n",
    "    plt.imshow(resized, cmap='gray')\n",
    "    plt.title(f'{title} - Resized')\n",
    "    plt.axis('off')\n",
    "    plt.show()"
   ]
  },
  {
   "cell_type": "code",
   "execution_count": 6,
   "id": "d29979d5-6859-4f32-b84a-3d36683b6581",
   "metadata": {
    "scrolled": true
   },
   "outputs": [
    {
     "name": "stdout",
     "output_type": "stream",
     "text": [
      "0\n",
      "1\n",
      "2\n",
      "3\n",
      "0\n",
      "1\n",
      "2\n",
      "3\n",
      "0\n",
      "1\n",
      "2\n",
      "3\n"
     ]
    },
    {
     "data": {
      "image/png": "[encoded data removed]",
      "text/plain": [
       "<Figure size 1500x500 with 2 Axes>"
      ]
     },
     "metadata": {},
     "output_type": "display_data"
    }
   ],
   "source": [
    "original, resized, label = preprocess_image(h5_path)\n",
    "visualize_before_after(original, resized, f'Train {label}')"
   ]
  },
  {
   "cell_type": "code",
   "execution_count": 7,
   "id": "c06ff563-f7aa-49c4-b0f2-7aded8427988",
   "metadata": {},
   "outputs": [
    {
     "name": "stdout",
     "output_type": "stream",
     "text": [
      "X_train shape: (744, 50, 50, 3)\n",
      "y_train shape: (744,)\n",
      "X_test shape: (248, 50, 50, 3)\n",
      "y_test shape: (248,)\n",
      "X_valid shape: (248, 50, 50, 3)\n",
      "y_valid shape: (248,)\n"
     ]
    }
   ],
   "source": [
    "X_train = np.array(X_train)\n",
    "y_train = np.array(y_train)\n",
    "X_test = np.array(X_test)\n",
    "y_test = np.array(y_test)\n",
    "X_valid = np.array(X_valid)\n",
    "y_valid = np.array(y_valid)\n",
    "\n",
    "print(f\"X_train shape: {X_train.shape}\")\n",
    "print(f\"y_train shape: {y_train.shape}\")\n",
    "print(f\"X_test shape: {X_test.shape}\")\n",
    "print(f\"y_test shape: {y_test.shape}\")\n",
    "print(f\"X_valid shape: {X_valid.shape}\")\n",
    "print(f\"y_valid shape: {y_valid.shape}\")"
   ]
  },
  {
   "cell_type": "code",
   "execution_count": 8,
   "id": "a1d817d0-bbc1-4655-a210-d4e302bf98a4",
   "metadata": {},
   "outputs": [],
   "source": [
    "X_train = X_train / 255.0\n",
    "X_test = X_test / 255.0\n",
    "X_valid = X_valid / 255.0\n",
    "\n",
    "X_train_flat = X_train.reshape(X_train.shape[0], -1)\n",
    "X_test_flat = X_test.reshape(X_test.shape[0], -1)\n",
    "X_valid_flat = X_valid.reshape(X_test.shape[0], -1)"
   ]
  },
  {
   "cell_type": "markdown",
   "id": "089fb4e4-67ea-443c-8923-01d51577f8d4",
   "metadata": {},
   "source": [
    "## Model Training"
   ]
  },
  {
   "cell_type": "markdown",
   "id": "5cd90bc5-3d72-4865-b90d-b7a97803b85f",
   "metadata": {},
   "source": [
    "### KNN"
   ]
  },
  {
   "cell_type": "code",
   "execution_count": 9,
   "id": "13b11c28-d18c-4e28-87e4-d37c0568092c",
   "metadata": {},
   "outputs": [
    {
     "name": "stdout",
     "output_type": "stream",
     "text": [
      "Fitting 5 folds for each of 20 candidates, totalling 100 fits\n",
      "Best Parameters: {'n_neighbors': 3, 'p': 2, 'weights': 'distance'}\n"
     ]
    }
   ],
   "source": [
    "from sklearn.model_selection import GridSearchCV\n",
    "from sklearn.neighbors import KNeighborsClassifier\n",
    "from sklearn.metrics import classification_report\n",
    "\n",
    "def perform_grid_search(model, param_grid, X_train, y_train, cv=5, scoring='accuracy', verbose=1, n_jobs=-1):\n",
    "\n",
    "    # Initialize the GridSearchCV object\n",
    "    grid_search = GridSearchCV(estimator=model, param_grid=param_grid, \n",
    "                               cv=cv, scoring=scoring, verbose=verbose, n_jobs=n_jobs)\n",
    "    \n",
    "    # Fit the grid search to the data\n",
    "    grid_search.fit(X_train, y_train)\n",
    "    \n",
    "    # Get the best estimator and best parameters\n",
    "    best_estimator = grid_search.best_estimator_\n",
    "    best_params = grid_search.best_params_\n",
    "    \n",
    "    print(f\"Best Parameters: {best_params}\")\n",
    "    return best_estimator, best_params\n",
    "\n",
    "# Define the model\n",
    "#Best Parameters: {'C': 10, 'gamma': 0.01, 'kernel': 'rbf'}\n",
    "model =  KNeighborsClassifier()\n",
    "\n",
    "# Define the parameter grid for SVM\n",
    "param_grid = {\n",
    "    \n",
    "    'n_neighbors': [3, 5, 7, 9, 11],\n",
    "    'weights': ['uniform', 'distance'],\n",
    "    'p': [1, 2]  \n",
    "   \n",
    "}\n",
    "\n",
    "# Perform grid search\n",
    "knn_best_model, best_hyperparams = perform_grid_search(model, param_grid, X_train_flat, y_train)\n",
    "\n",
    "# Evaluate the best model on the test set\n",
    "y_pred = knn_best_model.predict(X_test_flat)\n"
   ]
  },
  {
   "cell_type": "code",
   "execution_count": 10,
   "id": "60c3c007-791a-4d0b-9c1c-248ddfd2ae05",
   "metadata": {},
   "outputs": [
    {
     "name": "stdout",
     "output_type": "stream",
     "text": [
      "KNN Training Accuracy: 100.00%\n",
      "KNN Testing Accuracy: 84.27%\n",
      "KNN Validation Accuracy: 85.89%\n",
      "Classification Report: \n",
      "               precision    recall  f1-score   support\n",
      "\n",
      "           0       1.00      0.81      0.89        62\n",
      "           1       0.83      0.85      0.84        62\n",
      "           2       0.88      0.81      0.84        62\n",
      "           3       0.73      0.90      0.81        62\n",
      "\n",
      "    accuracy                           0.84       248\n",
      "   macro avg       0.86      0.84      0.85       248\n",
      "weighted avg       0.86      0.84      0.85       248\n",
      "\n",
      "Confusion Matrix:\n",
      " [[50  0  1 11]\n",
      " [ 0 53  6  3]\n",
      " [ 0  5 50  7]\n",
      " [ 0  6  0 56]]\n"
     ]
    }
   ],
   "source": [
    "knn = knn_best_model\n",
    "\n",
    "knn.fit(X_train_flat, y_train)\n",
    "\n",
    "train_pred_knn = knn.predict(X_train_flat)\n",
    "test_pred_knn = knn.predict(X_test_flat)\n",
    "valid_pred_knn = knn.predict(X_valid_flat)\n",
    "\n",
    "train_accuracy_knn = accuracy_score(y_train, train_pred_knn)\n",
    "test_accuracy_knn = accuracy_score(y_test, test_pred_knn)\n",
    "valid_accuracy_knn = accuracy_score(y_valid, valid_pred_knn)\n",
    "\n",
    "print(\"KNN Training Accuracy: {:.2f}%\".format(train_accuracy_knn * 100))\n",
    "print(\"KNN Testing Accuracy: {:.2f}%\".format(test_accuracy_knn * 100))\n",
    "print(\"KNN Validation Accuracy: {:.2f}%\".format(valid_accuracy_knn * 100))\n",
    "\n",
    "print(\"Classification Report: \\n\", classification_report(y_test, test_pred_knn))\n",
    "print(\"Confusion Matrix:\\n\", confusion_matrix(y_test, test_pred_knn))"
   ]
  },
  {
   "cell_type": "markdown",
   "id": "6d5d88aa-28e5-406e-a4d5-5bca5924a285",
   "metadata": {},
   "source": [
    "### K-Means"
   ]
  },
  {
   "cell_type": "code",
   "execution_count": 11,
   "id": "c50555cf-2599-470d-b2f8-9e04bbaf53ae",
   "metadata": {},
   "outputs": [
    {
     "name": "stderr",
     "output_type": "stream",
     "text": [
      "C:\\Users\\User\\anaconda3\\Lib\\site-packages\\sklearn\\cluster\\_kmeans.py:870: FutureWarning: The default value of `n_init` will change from 10 to 'auto' in 1.4. Set the value of `n_init` explicitly to suppress the warning\n",
      "  warnings.warn(\n",
      "C:\\Users\\User\\anaconda3\\Lib\\site-packages\\sklearn\\cluster\\_kmeans.py:1382: UserWarning: KMeans is known to have a memory leak on Windows with MKL, when there are less chunks than available threads. You can avoid it by setting the environment variable OMP_NUM_THREADS=3.\n",
      "  warnings.warn(\n"
     ]
    },
    {
     "data": {
      "text/html": [
       "<style>#sk-container-id-1 {color: black;background-color: white;}#sk-container-id-1 pre{padding: 0;}#sk-container-id-1 div.sk-toggleable {background-color: white;}#sk-container-id-1 label.sk-toggleable__label {cursor: pointer;display: block;width: 100%;margin-bottom: 0;padding: 0.3em;box-sizing: border-box;text-align: center;}#sk-container-id-1 label.sk-toggleable__label-arrow:before {content: \"▸\";float: left;margin-right: 0.25em;color: #696969;}#sk-container-id-1 label.sk-toggleable__label-arrow:hover:before {color: black;}#sk-container-id-1 div.sk-estimator:hover label.sk-toggleable__label-arrow:before {color: black;}#sk-container-id-1 div.sk-toggleable__content {max-height: 0;max-width: 0;overflow: hidden;text-align: left;background-color: #f0f8ff;}#sk-container-id-1 div.sk-toggleable__content pre {margin: 0.2em;color: black;border-radius: 0.25em;background-color: #f0f8ff;}#sk-container-id-1 input.sk-toggleable__control:checked~div.sk-toggleable__content {max-height: 200px;max-width: 100%;overflow: auto;}#sk-container-id-1 input.sk-toggleable__control:checked~label.sk-toggleable__label-arrow:before {content: \"▾\";}#sk-container-id-1 div.sk-estimator input.sk-toggleable__control:checked~label.sk-toggleable__label {background-color: #d4ebff;}#sk-container-id-1 div.sk-label input.sk-toggleable__control:checked~label.sk-toggleable__label {background-color: #d4ebff;}#sk-container-id-1 input.sk-hidden--visually {border: 0;clip: rect(1px 1px 1px 1px);clip: rect(1px, 1px, 1px, 1px);height: 1px;margin: -1px;overflow: hidden;padding: 0;position: absolute;width: 1px;}#sk-container-id-1 div.sk-estimator {font-family: monospace;background-color: #f0f8ff;border: 1px dotted black;border-radius: 0.25em;box-sizing: border-box;margin-bottom: 0.5em;}#sk-container-id-1 div.sk-estimator:hover {background-color: #d4ebff;}#sk-container-id-1 div.sk-parallel-item::after {content: \"\";width: 100%;border-bottom: 1px solid gray;flex-grow: 1;}#sk-container-id-1 div.sk-label:hover label.sk-toggleable__label {background-color: #d4ebff;}#sk-container-id-1 div.sk-serial::before {content: \"\";position: absolute;border-left: 1px solid gray;box-sizing: border-box;top: 0;bottom: 0;left: 50%;z-index: 0;}#sk-container-id-1 div.sk-serial {display: flex;flex-direction: column;align-items: center;background-color: white;padding-right: 0.2em;padding-left: 0.2em;position: relative;}#sk-container-id-1 div.sk-item {position: relative;z-index: 1;}#sk-container-id-1 div.sk-parallel {display: flex;align-items: stretch;justify-content: center;background-color: white;position: relative;}#sk-container-id-1 div.sk-item::before, #sk-container-id-1 div.sk-parallel-item::before {content: \"\";position: absolute;border-left: 1px solid gray;box-sizing: border-box;top: 0;bottom: 0;left: 50%;z-index: -1;}#sk-container-id-1 div.sk-parallel-item {display: flex;flex-direction: column;z-index: 1;position: relative;background-color: white;}#sk-container-id-1 div.sk-parallel-item:first-child::after {align-self: flex-end;width: 50%;}#sk-container-id-1 div.sk-parallel-item:last-child::after {align-self: flex-start;width: 50%;}#sk-container-id-1 div.sk-parallel-item:only-child::after {width: 0;}#sk-container-id-1 div.sk-dashed-wrapped {border: 1px dashed gray;margin: 0 0.4em 0.5em 0.4em;box-sizing: border-box;padding-bottom: 0.4em;background-color: white;}#sk-container-id-1 div.sk-label label {font-family: monospace;font-weight: bold;display: inline-block;line-height: 1.2em;}#sk-container-id-1 div.sk-label-container {text-align: center;}#sk-container-id-1 div.sk-container {/* jupyter's `normalize.less` sets `[hidden] { display: none; }` but bootstrap.min.css set `[hidden] { display: none !important; }` so we also need the `!important` here to be able to override the default hidden behavior on the sphinx rendered scikit-learn.org. See: https://github.com/scikit-learn/scikit-learn/issues/21755 */display: inline-block !important;position: relative;}#sk-container-id-1 div.sk-text-repr-fallback {display: none;}</style><div id=\"sk-container-id-1\" class=\"sk-top-container\"><div class=\"sk-text-repr-fallback\"><pre>KMeans(n_clusters=4)</pre><b>In a Jupyter environment, please rerun this cell to show the HTML representation or trust the notebook. <br />On GitHub, the HTML representation is unable to render, please try loading this page with nbviewer.org.</b></div><div class=\"sk-container\" hidden><div class=\"sk-item\"><div class=\"sk-estimator sk-toggleable\"><input class=\"sk-toggleable__control sk-hidden--visually\" id=\"sk-estimator-id-1\" type=\"checkbox\" checked><label for=\"sk-estimator-id-1\" class=\"sk-toggleable__label sk-toggleable__label-arrow\">KMeans</label><div class=\"sk-toggleable__content\"><pre>KMeans(n_clusters=4)</pre></div></div></div></div></div>"
      ],
      "text/plain": [
       "KMeans(n_clusters=4)"
      ]
     },
     "execution_count": 11,
     "metadata": {},
     "output_type": "execute_result"
    }
   ],
   "source": [
    "# Build the clustering model\n",
    "kmeans = KMeans(n_clusters=4)\n",
    "kmeans.fit(X_train_flat)"
   ]
  },
  {
   "cell_type": "code",
   "execution_count": 12,
   "id": "04944c2a-a709-4c3f-b6a1-c75343974f12",
   "metadata": {},
   "outputs": [],
   "source": [
    "y_pred_test_kmeans = kmeans.predict(X_test_flat)"
   ]
  },
  {
   "cell_type": "code",
   "execution_count": 13,
   "id": "a73760a5-4fab-4d44-84e6-836863adde53",
   "metadata": {},
   "outputs": [
    {
     "name": "stdout",
     "output_type": "stream",
     "text": [
      "KMeans Clustering Accuracy: 19.758065%\n",
      "Classification Report:\n",
      "               precision    recall  f1-score   support\n",
      "\n",
      "           0       0.05      0.03      0.04        62\n",
      "           1       0.25      0.44      0.32        62\n",
      "           2       0.00      0.00      0.00        62\n",
      "           3       0.26      0.32      0.29        62\n",
      "\n",
      "    accuracy                           0.20       248\n",
      "   macro avg       0.14      0.20      0.16       248\n",
      "weighted avg       0.14      0.20      0.16       248\n",
      "\n",
      "Confusion Matrix:\n",
      " [[ 2 24  9 27]\n",
      " [19 27  3 13]\n",
      " [ 0 44  0 18]\n",
      " [18 14 10 20]]\n"
     ]
    }
   ],
   "source": [
    "accuracy_kmeans = accuracy_score(y_test, y_pred_test_kmeans)\n",
    "print(\"KMeans Clustering Accuracy: {:2f}%\".format(accuracy_kmeans * 100))\n",
    "print(\"Classification Report:\\n\", classification_report(y_test, y_pred_test_kmeans))\n",
    "print(\"Confusion Matrix:\\n\", confusion_matrix(y_test, y_pred_test_kmeans))"
   ]
  },
  {
   "cell_type": "code",
   "execution_count": 14,
   "id": "6b681868-94c9-4504-ad10-c80ca587dec2",
   "metadata": {},
   "outputs": [
    {
     "data": {
      "image/png": "[encoded data removed]",
      "text/plain": [
       "<Figure size 640x480 with 1 Axes>"
      ]
     },
     "metadata": {},
     "output_type": "display_data"
    }
   ],
   "source": [
    "plt.scatter(X_test_flat[:, 0], X_test_flat[:, 1], c=y_pred_test_kmeans, s=50, cmap='viridis')\n",
    "centers = kmeans.cluster_centers_\n",
    "plt.scatter(centers[:, 0], centers[:, 1], c='black', s=300, alpha=0.5);\n",
    "plt.show()"
   ]
  }
 ],
 "metadata": {
  "kernelspec": {
   "display_name": "Python 3 (ipykernel)",
   "language": "python",
   "name": "python3"
  },
  "language_info": {
   "codemirror_mode": {
    "name": "ipython",
    "version": 3
   },
   "file_extension": ".py",
   "mimetype": "text/x-python",
   "name": "python",
   "nbconvert_exporter": "python",
   "pygments_lexer": "ipython3",
   "version": "3.11.7"
  }
 },
 "nbformat": 4,
 "nbformat_minor": 5
}
