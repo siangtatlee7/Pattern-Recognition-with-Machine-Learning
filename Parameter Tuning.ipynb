{
 "cells": [
  {
   "cell_type": "markdown",
   "id": "acd5150b-4501-4aa9-a575-de41d3207f90",
   "metadata": {},
   "source": [
    "## Import File Image"
   ]
  },
  {
   "cell_type": "code",
   "execution_count": 1,
   "id": "68d872e2-fa26-43a1-8c2c-7c1953a1bd08",
   "metadata": {},
   "outputs": [],
   "source": [
    "import os\n",
    "import cv2\n",
    "import numpy as np\n",
    "import matplotlib.pyplot as plt\n",
    "from pathlib import Path\n",
    "import h5py\n",
    "\n",
    "from sklearn.discriminant_analysis import LinearDiscriminantAnalysis \n",
    "from sklearn.neighbors import KNeighborsClassifier\n",
    "from sklearn.cluster import KMeans\n",
    "from sklearn.metrics import accuracy_score, classification_report, confusion_matrix"
   ]
  },
  {
   "cell_type": "code",
   "execution_count": 2,
   "id": "62f6adfe-a304-4bdb-8c1c-f7e0aca39cef",
   "metadata": {},
   "outputs": [],
   "source": [
    "h5_path = 'C:/Users/siang/MMU/Pattern Recognition/project/HDF5/image_data.h5'\n",
    "\n",
    "X_train = []\n",
    "y_train = []\n",
    "X_test = []\n",
    "y_test = []\n",
    "X_valid = []\n",
    "y_valid = []"
   ]
  },
  {
   "cell_type": "code",
   "execution_count": 3,
   "id": "7981ba2d-c7ea-47f5-b3b8-2cafa6394b8d",
   "metadata": {},
   "outputs": [],
   "source": [
    "def segment_background(image):\n",
    "    gray_image = cv2.cvtColor(image, cv2.COLOR_BGR2GRAY)\n",
    "    _, segmented_image = cv2.threshold(gray_image, 127, 255, cv2.THRESH_BINARY)\n",
    "    return segmented_image"
   ]
  },
  {
   "cell_type": "code",
   "execution_count": 4,
   "id": "5990221a-5507-4239-85ec-019c8aa628d7",
   "metadata": {},
   "outputs": [],
   "source": [
    "def preprocess_image(h5_path, size=(50, 50)):\n",
    "    with h5py.File(h5_path, 'r') as h5_file:\n",
    "        for split in ['train', 'test' , 'valid']:\n",
    "            split_group = h5_file[split]\n",
    "            for category in split_group.keys():\n",
    "                category_group = split_group[category]\n",
    "                print(category)\n",
    "                if category != \".ipynb_checkpoints\":\n",
    "                    label = int(category) \n",
    "                for image_name in category_group.keys():\n",
    "                    image_data = category_group[image_name][()]\n",
    "                    resized_image = cv2.resize(image_data, size)\n",
    "                    if split == 'train':\n",
    "                        X_train.append(resized_image)\n",
    "                        y_train.append(label)\n",
    "                    elif split == 'test':\n",
    "                        X_test.append(resized_image)\n",
    "                        y_test.append(label)\n",
    "                    elif split == 'valid':\n",
    "                        X_valid.append(resized_image)\n",
    "                        y_valid.append(label)\n",
    "\n",
    "    return image_data, resized_image, label"
   ]
  },
  {
   "cell_type": "code",
   "execution_count": 5,
   "id": "9b0dfad8-e6fc-4e0b-8684-b9474cb2b511",
   "metadata": {},
   "outputs": [],
   "source": [
    "def visualize_before_after(original, resized, title):\n",
    "    plt.figure(figsize=(15, 5))\n",
    "    plt.subplot(1, 3, 1)\n",
    "    plt.imshow(cv2.cvtColor(original, cv2.COLOR_BGR2RGB))\n",
    "    plt.title(f'{title} - Original')\n",
    "    plt.axis('off')\n",
    "\n",
    "    plt.subplot(1, 3, 3)\n",
    "    plt.imshow(resized, cmap='gray')\n",
    "    plt.title(f'{title} - Resized')\n",
    "    plt.axis('off')\n",
    "    plt.show()"
   ]
  },
  {
   "cell_type": "code",
   "execution_count": 6,
   "id": "d29979d5-6859-4f32-b84a-3d36683b6581",
   "metadata": {
    "scrolled": true
   },
   "outputs": [
    {
     "name": "stdout",
     "output_type": "stream",
     "text": [
      "0\n",
      "1\n",
      "2\n",
      "3\n",
      "0\n",
      "1\n",
      "2\n",
      "3\n",
      "0\n",
      "1\n",
      "2\n",
      "3\n"
     ]
    },
    {
     "data": {
      "image/png": "[encoded data removed]",
      "text/plain": [
       "<Figure size 1500x500 with 2 Axes>"
      ]
     },
     "metadata": {},
     "output_type": "display_data"
    }
   ],
   "source": [
    "original, resized, label = preprocess_image(h5_path)\n",
    "visualize_before_after(original, resized, f'Train {label}')"
   ]
  },
  {
   "cell_type": "code",
   "execution_count": 7,
   "id": "98b4493e-5dc2-4637-aba9-65452e28ca94",
   "metadata": {},
   "outputs": [
    {
     "name": "stdout",
     "output_type": "stream",
     "text": [
      "X_train shape: (744, 50, 50, 3)\n",
      "y_train shape: (744,)\n",
      "X_test shape: (248, 50, 50, 3)\n",
      "y_test shape: (248,)\n",
      "X_valid shape: (248, 50, 50, 3)\n",
      "y_valid shape: (248,)\n"
     ]
    }
   ],
   "source": [
    "X_train = np.array(X_train)\n",
    "y_train = np.array(y_train)\n",
    "X_test = np.array(X_test)\n",
    "y_test = np.array(y_test)\n",
    "X_valid = np.array(X_valid)\n",
    "y_valid = np.array(y_valid)\n",
    "\n",
    "print(f\"X_train shape: {X_train.shape}\")\n",
    "print(f\"y_train shape: {y_train.shape}\")\n",
    "print(f\"X_test shape: {X_test.shape}\")\n",
    "print(f\"y_test shape: {y_test.shape}\")\n",
    "print(f\"X_valid shape: {X_valid.shape}\")\n",
    "print(f\"y_valid shape: {y_valid.shape}\")"
   ]
  },
  {
   "cell_type": "code",
   "execution_count": 8,
   "id": "bf7809e8-fd4d-44c6-8ec0-5147683fea27",
   "metadata": {},
   "outputs": [],
   "source": [
    "X_train = X_train / 255.0\n",
    "X_test = X_test / 255.0\n",
    "X_valid = X_valid / 255.0\n",
    "\n",
    "X_train_flat = X_train.reshape(X_train.shape[0], -1)\n",
    "X_test_flat = X_test.reshape(X_test.shape[0], -1)\n",
    "X_valid_flat = X_valid.reshape(X_test.shape[0], -1)"
   ]
  },
  {
   "cell_type": "code",
   "execution_count": 9,
   "id": "842213c9-68cf-4e4c-8590-14feaf5705fa",
   "metadata": {},
   "outputs": [
    {
     "data": {
      "text/plain": [
       "array([0, 0, 0, 0, 0, 0, 0, 0, 0, 0, 0, 0, 0, 0, 0, 0, 0, 0, 0, 0, 0, 0,\n",
       "       0, 0, 0, 0, 0, 0, 0, 0, 0, 0, 0, 0, 0, 0, 0, 0, 0, 0, 0, 0, 0, 0,\n",
       "       0, 0, 0, 0, 0, 0, 0, 0, 0, 0, 0, 0, 0, 0, 0, 0, 0, 0, 0, 0, 0, 0,\n",
       "       0, 0, 0, 0, 0, 0, 0, 0, 0, 0, 0, 0, 0, 0, 0, 0, 0, 0, 0, 0, 0, 0,\n",
       "       0, 0, 0, 0, 0, 0, 0, 0, 0, 0, 0, 0, 0, 0, 0, 0, 0, 0, 0, 0, 0, 0,\n",
       "       0, 0, 0, 0, 0, 0, 0, 0, 0, 0, 0, 0, 0, 0, 0, 0, 0, 0, 0, 0, 0, 0,\n",
       "       0, 0, 0, 0, 0, 0, 0, 0, 0, 0, 0, 0, 0, 0, 0, 0, 0, 0, 0, 0, 0, 0,\n",
       "       0, 0, 0, 0, 0, 0, 0, 0, 0, 0, 0, 0, 0, 0, 0, 0, 0, 0, 0, 0, 0, 0,\n",
       "       0, 0, 0, 0, 0, 0, 0, 0, 0, 0, 1, 1, 1, 1, 1, 1, 1, 1, 1, 1, 1, 1,\n",
       "       1, 1, 1, 1, 1, 1, 1, 1, 1, 1, 1, 1, 1, 1, 1, 1, 1, 1, 1, 1, 1, 1,\n",
       "       1, 1, 1, 1, 1, 1, 1, 1, 1, 1, 1, 1, 1, 1, 1, 1, 1, 1, 1, 1, 1, 1,\n",
       "       1, 1, 1, 1, 1, 1, 1, 1, 1, 1, 1, 1, 1, 1, 1, 1, 1, 1, 1, 1, 1, 1,\n",
       "       1, 1, 1, 1, 1, 1, 1, 1, 1, 1, 1, 1, 1, 1, 1, 1, 1, 1, 1, 1, 1, 1,\n",
       "       1, 1, 1, 1, 1, 1, 1, 1, 1, 1, 1, 1, 1, 1, 1, 1, 1, 1, 1, 1, 1, 1,\n",
       "       1, 1, 1, 1, 1, 1, 1, 1, 1, 1, 1, 1, 1, 1, 1, 1, 1, 1, 1, 1, 1, 1,\n",
       "       1, 1, 1, 1, 1, 1, 1, 1, 1, 1, 1, 1, 1, 1, 1, 1, 1, 1, 1, 1, 1, 1,\n",
       "       1, 1, 1, 1, 1, 1, 1, 1, 1, 1, 1, 1, 1, 1, 1, 1, 1, 1, 1, 1, 2, 2,\n",
       "       2, 2, 2, 2, 2, 2, 2, 2, 2, 2, 2, 2, 2, 2, 2, 2, 2, 2, 2, 2, 2, 2,\n",
       "       2, 2, 2, 2, 2, 2, 2, 2, 2, 2, 2, 2, 2, 2, 2, 2, 2, 2, 2, 2, 2, 2,\n",
       "       2, 2, 2, 2, 2, 2, 2, 2, 2, 2, 2, 2, 2, 2, 2, 2, 2, 2, 2, 2, 2, 2,\n",
       "       2, 2, 2, 2, 2, 2, 2, 2, 2, 2, 2, 2, 2, 2, 2, 2, 2, 2, 2, 2, 2, 2,\n",
       "       2, 2, 2, 2, 2, 2, 2, 2, 2, 2, 2, 2, 2, 2, 2, 2, 2, 2, 2, 2, 2, 2,\n",
       "       2, 2, 2, 2, 2, 2, 2, 2, 2, 2, 2, 2, 2, 2, 2, 2, 2, 2, 2, 2, 2, 2,\n",
       "       2, 2, 2, 2, 2, 2, 2, 2, 2, 2, 2, 2, 2, 2, 2, 2, 2, 2, 2, 2, 2, 2,\n",
       "       2, 2, 2, 2, 2, 2, 2, 2, 2, 2, 2, 2, 2, 2, 2, 2, 2, 2, 2, 2, 2, 2,\n",
       "       2, 2, 2, 2, 2, 2, 2, 2, 3, 3, 3, 3, 3, 3, 3, 3, 3, 3, 3, 3, 3, 3,\n",
       "       3, 3, 3, 3, 3, 3, 3, 3, 3, 3, 3, 3, 3, 3, 3, 3, 3, 3, 3, 3, 3, 3,\n",
       "       3, 3, 3, 3, 3, 3, 3, 3, 3, 3, 3, 3, 3, 3, 3, 3, 3, 3, 3, 3, 3, 3,\n",
       "       3, 3, 3, 3, 3, 3, 3, 3, 3, 3, 3, 3, 3, 3, 3, 3, 3, 3, 3, 3, 3, 3,\n",
       "       3, 3, 3, 3, 3, 3, 3, 3, 3, 3, 3, 3, 3, 3, 3, 3, 3, 3, 3, 3, 3, 3,\n",
       "       3, 3, 3, 3, 3, 3, 3, 3, 3, 3, 3, 3, 3, 3, 3, 3, 3, 3, 3, 3, 3, 3,\n",
       "       3, 3, 3, 3, 3, 3, 3, 3, 3, 3, 3, 3, 3, 3, 3, 3, 3, 3, 3, 3, 3, 3,\n",
       "       3, 3, 3, 3, 3, 3, 3, 3, 3, 3, 3, 3, 3, 3, 3, 3, 3, 3, 3, 3, 3, 3,\n",
       "       3, 3, 3, 3, 3, 3, 3, 3, 3, 3, 3, 3, 3, 3, 3, 3, 3, 3])"
      ]
     },
     "execution_count": 9,
     "metadata": {},
     "output_type": "execute_result"
    }
   ],
   "source": [
    "y_train"
   ]
  },
  {
   "cell_type": "markdown",
   "id": "25d3bee4-169e-4860-b368-9dcc97c724cc",
   "metadata": {},
   "source": [
    "## LDA Preprocessing"
   ]
  },
  {
   "cell_type": "code",
   "execution_count": 10,
   "id": "5d6b725b-e335-4f60-b1ab-167187bec518",
   "metadata": {},
   "outputs": [],
   "source": [
    "lda = LinearDiscriminantAnalysis(n_components=3)"
   ]
  },
  {
   "cell_type": "code",
   "execution_count": 11,
   "id": "b121c867-3be9-4f1c-89f4-c51d4e77fcc0",
   "metadata": {},
   "outputs": [],
   "source": [
    "lda.fit(X_train_flat, y_train)\n",
    "X_train_lda = lda.transform(X_train_flat)\n",
    "X_test_lda = lda.transform(X_test_flat)\n",
    "X_valid_lda = lda.transform(X_valid_flat)"
   ]
  },
  {
   "cell_type": "markdown",
   "id": "089fb4e4-67ea-443c-8923-01d51577f8d4",
   "metadata": {},
   "source": [
    "## Model Training"
   ]
  },
  {
   "cell_type": "markdown",
   "id": "5cd90bc5-3d72-4865-b90d-b7a97803b85f",
   "metadata": {},
   "source": [
    "### KNN"
   ]
  },
  {
   "cell_type": "code",
   "execution_count": 12,
   "id": "4b87b758-4dcd-44db-9142-b8b0e5830a63",
   "metadata": {},
   "outputs": [
    {
     "name": "stdout",
     "output_type": "stream",
     "text": [
      "Fitting 5 folds for each of 20 candidates, totalling 100 fits\n",
      "Best Parameters: {'n_neighbors': 3, 'p': 1, 'weights': 'uniform'}\n"
     ]
    }
   ],
   "source": [
    "from sklearn.model_selection import GridSearchCV\n",
    "from sklearn.neighbors import KNeighborsClassifier\n",
    "from sklearn.metrics import classification_report\n",
    "\n",
    "def perform_grid_search(model, param_grid, X_train, y_train, cv=5, scoring='accuracy', verbose=1, n_jobs=-1):\n",
    "\n",
    "    # Initialize the GridSearchCV object\n",
    "    grid_search = GridSearchCV(estimator=model, param_grid=param_grid, \n",
    "                               cv=cv, scoring=scoring, verbose=verbose, n_jobs=n_jobs)\n",
    "    \n",
    "    # Fit the grid search to the data\n",
    "    grid_search.fit(X_train, y_train)\n",
    "    \n",
    "    # Get the best estimator and best parameters\n",
    "    best_estimator = grid_search.best_estimator_\n",
    "    best_params = grid_search.best_params_\n",
    "    \n",
    "    print(f\"Best Parameters: {best_params}\")\n",
    "    return best_estimator, best_params\n",
    "\n",
    "# Define the model\n",
    "#Best Parameters: {'C': 10, 'gamma': 0.01, 'kernel': 'rbf'}\n",
    "model =  KNeighborsClassifier()\n",
    "\n",
    "# Define the parameter grid for SVM\n",
    "param_grid = {\n",
    "    \n",
    "    'n_neighbors': [3, 5, 7, 9, 11],\n",
    "    'weights': ['uniform', 'distance'],\n",
    "    'p': [1, 2]  \n",
    "   \n",
    "}\n",
    "\n",
    "# Perform grid search\n",
    "knn_best_model, best_hyperparams = perform_grid_search(model, param_grid, X_train_lda, y_train)\n",
    "\n",
    "# Evaluate the best model on the test set\n",
    "y_pred = knn_best_model.predict(X_test_lda)\n"
   ]
  },
  {
   "cell_type": "code",
   "execution_count": 13,
   "id": "5a5d59fd-e5e9-4fbc-9909-824a5886f983",
   "metadata": {},
   "outputs": [
    {
     "name": "stdout",
     "output_type": "stream",
     "text": [
      "KNN Training Accuracy: 100.00%\n",
      "KNN Testing Accuracy: 88.71%\n",
      "KNN Validation Accuracy: 82.26%\n",
      "Classification Report: \n",
      "               precision    recall  f1-score   support\n",
      "\n",
      "           0       1.00      0.90      0.95        62\n",
      "           1       0.94      0.81      0.87        62\n",
      "           2       0.85      0.90      0.88        62\n",
      "           3       0.79      0.94      0.86        62\n",
      "\n",
      "    accuracy                           0.89       248\n",
      "   macro avg       0.90      0.89      0.89       248\n",
      "weighted avg       0.90      0.89      0.89       248\n",
      "\n",
      "Confusion Matrix:\n",
      " [[56  0  3  3]\n",
      " [ 0 50  3  9]\n",
      " [ 0  3 56  3]\n",
      " [ 0  0  4 58]]\n"
     ]
    }
   ],
   "source": [
    "knn = knn_best_model\n",
    "\n",
    "knn.fit(X_train_lda, y_train)\n",
    "\n",
    "train_pred_knn = knn.predict(X_train_lda)\n",
    "test_pred_knn = knn.predict(X_test_lda)\n",
    "valid_pred_knn = knn.predict(X_valid_lda)\n",
    "\n",
    "train_accuracy_knn = accuracy_score(y_train, train_pred_knn)\n",
    "test_accuracy_knn = accuracy_score(y_test, test_pred_knn)\n",
    "valid_accuracy_knn = accuracy_score(y_valid, valid_pred_knn)\n",
    "\n",
    "print(\"KNN Training Accuracy: {:.2f}%\".format(train_accuracy_knn * 100))\n",
    "print(\"KNN Testing Accuracy: {:.2f}%\".format(test_accuracy_knn * 100))\n",
    "print(\"KNN Validation Accuracy: {:.2f}%\".format(valid_accuracy_knn * 100))\n",
    "\n",
    "print(\"Classification Report: \\n\", classification_report(y_test, test_pred_knn))\n",
    "print(\"Confusion Matrix:\\n\", confusion_matrix(y_test, test_pred_knn))"
   ]
  },
  {
   "cell_type": "markdown",
   "id": "eb0fdaf2-85e0-4337-9563-025d9be94e9d",
   "metadata": {},
   "source": [
    "### SVM"
   ]
  },
  {
   "cell_type": "code",
   "execution_count": 14,
   "id": "4c4c2f02-5946-4b2f-809f-d1271e7491bc",
   "metadata": {},
   "outputs": [
    {
     "name": "stdout",
     "output_type": "stream",
     "text": [
      "Fitting 5 folds for each of 36 candidates, totalling 180 fits\n",
      "Best Parameters: {'C': 0.1, 'gamma': 1, 'kernel': 'linear'}\n"
     ]
    }
   ],
   "source": [
    "from sklearn.model_selection import GridSearchCV\n",
    "from sklearn.svm import SVC\n",
    "\n",
    "def perform_grid_search(model, param_grid, X_train, y_train, cv=5, scoring='accuracy', verbose=1, n_jobs=-1):\n",
    "\n",
    "    # Initialize the GridSearchCV object\n",
    "    grid_search = GridSearchCV(estimator=model, param_grid=param_grid, \n",
    "                               cv=cv, scoring=scoring, verbose=verbose, n_jobs=n_jobs)\n",
    "    \n",
    "    # Fit the grid search to the data\n",
    "    grid_search.fit(X_train, y_train)\n",
    "    \n",
    "    # Get the best estimator and best parameters\n",
    "    best_estimator = grid_search.best_estimator_\n",
    "    best_params = grid_search.best_params_\n",
    "    \n",
    "    print(f\"Best Parameters: {best_params}\")\n",
    "    return best_estimator, best_params\n",
    "    \n",
    "# Define the model\n",
    "#Best Parameters: {'C': 10, 'gamma': 0.01, 'kernel': 'rbf'}\n",
    "model = SVC()\n",
    "\n",
    "# Define the parameter grid for SVM\n",
    "param_grid = {\n",
    "    'C': [0.1, 1, 10],\n",
    "    'gamma': [1, 0.1, 0.01],\n",
    "    'kernel': ['linear', 'poly', 'rbf', 'sigmoid'],\n",
    "   \n",
    "}\n",
    "\n",
    "# Perform grid search\n",
    "svm_best_model, best_hyperparams = perform_grid_search(model, param_grid, X_train_lda, y_train)\n",
    "\n",
    "# Evaluate the best model on the test set\n",
    "y_pred = svm_best_model.predict(X_test_lda)\n"
   ]
  },
  {
   "cell_type": "code",
   "execution_count": 15,
   "id": "26ae7262-ac6b-45ba-8170-d370743f26fa",
   "metadata": {},
   "outputs": [
    {
     "name": "stdout",
     "output_type": "stream",
     "text": [
      "SVM Training Accuracy: 100.00%\n",
      "SVM Testing Accuracy: 89.52%\n",
      "SVM Validation Accuracy: 81.85%\n",
      "Classification Report: \n",
      "               precision    recall  f1-score   support\n",
      "\n",
      "           0       1.00      0.89      0.94        62\n",
      "           1       0.95      0.87      0.91        62\n",
      "           2       0.85      0.90      0.88        62\n",
      "           3       0.81      0.92      0.86        62\n",
      "\n",
      "    accuracy                           0.90       248\n",
      "   macro avg       0.90      0.90      0.90       248\n",
      "weighted avg       0.90      0.90      0.90       248\n",
      "\n",
      "Confusion Matrix:\n",
      " [[55  0  3  4]\n",
      " [ 0 54  2  6]\n",
      " [ 0  3 56  3]\n",
      " [ 0  0  5 57]]\n"
     ]
    }
   ],
   "source": [
    " import pandas as pd\n",
    "\n",
    "from sklearn.svm import SVC\n",
    "from sklearn.metrics import accuracy_score, classification_report\n",
    "\n",
    "# Initialize and train the SVM classifier\n",
    "svm = svm_best_model\n",
    "svm.fit(X_train_lda, y_train)\n",
    "\n",
    "# Predict on the test set\n",
    "svm_train_pred = svm.predict(X_train_lda)\n",
    "svm_test_pred = svm.predict(X_test_lda)\n",
    "svm_valid_pred = svm.predict(X_valid_lda)\n",
    "\n",
    "\n",
    "# Evaluate the classifier\n",
    "svm_train_accuracy = accuracy_score(y_train, svm_train_pred)\n",
    "svm_test_accuracy = accuracy_score(y_test, svm_test_pred)\n",
    "svm_valid_accuracy = accuracy_score(y_valid, svm_valid_pred)\n",
    "\n",
    "\n",
    "print(\"SVM Training Accuracy: {:.2f}%\".format(svm_train_accuracy * 100))\n",
    "print(\"SVM Testing Accuracy: {:.2f}%\".format(svm_test_accuracy * 100))\n",
    "print(\"SVM Validation Accuracy: {:.2f}%\".format(svm_valid_accuracy * 100))\n",
    "print(\"Classification Report: \\n\", classification_report(y_test, svm_test_pred))\n",
    "print(\"Confusion Matrix:\\n\", confusion_matrix(y_test, svm_test_pred))\n"
   ]
  },
  {
   "cell_type": "markdown",
   "id": "e46a1e68-9b76-45ff-b548-588b72c9cfe0",
   "metadata": {},
   "source": [
    "### Random Forest"
   ]
  },
  {
   "cell_type": "code",
   "execution_count": 16,
   "id": "dab79d22-50d9-4911-8ba6-93dd7673a38e",
   "metadata": {},
   "outputs": [
    {
     "name": "stdout",
     "output_type": "stream",
     "text": [
      "Fitting 5 folds for each of 36 candidates, totalling 180 fits\n",
      "Best Parameters: {'max_depth': None, 'min_samples_split': 2, 'n_estimators': 10}\n"
     ]
    }
   ],
   "source": [
    "from sklearn.model_selection import GridSearchCV\n",
    "from sklearn.ensemble import RandomForestClassifier\n",
    "from sklearn.metrics import classification_report\n",
    "\n",
    "def perform_grid_search(model, param_grid, X_train, y_train, cv=5, scoring='accuracy', verbose=1, n_jobs=-1):\n",
    " \n",
    "    # Initialize the GridSearchCV object\n",
    "    grid_search = GridSearchCV(estimator=model, param_grid=param_grid, \n",
    "                               cv=cv, scoring=scoring, verbose=verbose, n_jobs=n_jobs)\n",
    "    \n",
    "    # Fit the grid search to the data\n",
    "    grid_search.fit(X_train, y_train)\n",
    "    \n",
    "    # Get the best estimator and best parameters\n",
    "    best_estimator = grid_search.best_estimator_\n",
    "    best_params = grid_search.best_params_\n",
    "    \n",
    "    print(f\"Best Parameters: {best_params}\")\n",
    "    return best_estimator, best_params\n",
    "\n",
    "# Define the model\n",
    "model = RandomForestClassifier()\n",
    "\n",
    "# Define the parameter grid for SVM\n",
    "param_grid = {\n",
    "    'n_estimators': [10,50,100],\n",
    "    'max_depth': [None,10,30,50],\n",
    "    'min_samples_split': [2,5,10],\n",
    "\n",
    "   \n",
    "}\n",
    "\n",
    "# Perform grid search\n",
    "rf_best_model, best_hyperparams = perform_grid_search(model, param_grid, X_train_lda, y_train)\n",
    "\n",
    "# Evaluate the best model on the test set\n",
    "y_pred = rf_best_model.predict(X_test_lda)\n"
   ]
  },
  {
   "cell_type": "code",
   "execution_count": 17,
   "id": "ac9d9c31-130f-47c6-afac-e6e2f85a453f",
   "metadata": {},
   "outputs": [
    {
     "name": "stdout",
     "output_type": "stream",
     "text": [
      "Random Forest Training Accuracy: 100.00%\n",
      "Random Forest Testing Accuracy: 87.90%\n",
      "Random Forest Validation Accuracy: 79.03%\n",
      "Classification Report: \n",
      "               precision    recall  f1-score   support\n",
      "\n",
      "           0       0.96      0.87      0.92        62\n",
      "           1       0.94      0.81      0.87        62\n",
      "           2       0.79      0.92      0.85        62\n",
      "           3       0.85      0.92      0.88        62\n",
      "\n",
      "    accuracy                           0.88       248\n",
      "   macro avg       0.89      0.88      0.88       248\n",
      "weighted avg       0.89      0.88      0.88       248\n",
      "\n",
      "Confusion Matrix:\n",
      " [[54  0  3  5]\n",
      " [ 1 50  7  4]\n",
      " [ 1  3 57  1]\n",
      " [ 0  0  5 57]]\n"
     ]
    }
   ],
   "source": [
    "import numpy as np\n",
    "from sklearn.datasets import load_iris\n",
    "from sklearn.model_selection import train_test_split\n",
    "from sklearn.ensemble import RandomForestClassifier\n",
    "from sklearn.metrics import accuracy_score, classification_report\n",
    "\n",
    "# Initialize and train the Naive Bayes classifier\n",
    "#Best Parameters: {'max_depth': 50, 'max_features': 'log2', 'min_samples_leaf': 2, 'min_samples_split': 2, 'n_estimators': 200}\n",
    "rf_model = rf_best_model\n",
    "rf_model.fit(X_train_lda, y_train)\n",
    "\n",
    "rf_train_pred = rf_model.predict(X_train_lda)\n",
    "rf_test_pred = rf_model.predict(X_test_lda)\n",
    "rf_valid_pred = rf_model.predict(X_valid_lda)\n",
    "\n",
    "\n",
    "\n",
    "rf_train_accuracy = accuracy_score(y_train, rf_train_pred)\n",
    "rf_test_accuracy = accuracy_score(y_test, rf_test_pred)\n",
    "rf_valid_accuracy = accuracy_score(y_valid, rf_valid_pred)\n",
    "\n",
    "\n",
    "print(\"Random Forest Training Accuracy: {:.2f}%\".format(rf_train_accuracy * 100))\n",
    "print(\"Random Forest Testing Accuracy: {:.2f}%\".format(rf_test_accuracy * 100))\n",
    "print(\"Random Forest Validation Accuracy: {:.2f}%\".format(rf_valid_accuracy * 100))\n",
    "print(\"Classification Report: \\n\", classification_report(y_test, rf_test_pred))\n",
    "print(\"Confusion Matrix:\\n\", confusion_matrix(y_test, rf_test_pred))\n"
   ]
  },
  {
   "cell_type": "markdown",
   "id": "30400d5e-e2f1-49b8-9c00-1fed945c11e9",
   "metadata": {},
   "source": [
    "### Decision Tree"
   ]
  },
  {
   "cell_type": "code",
   "execution_count": 18,
   "id": "b0ac1083-af2e-4e7a-b2e8-7d88edbe6071",
   "metadata": {},
   "outputs": [
    {
     "name": "stdout",
     "output_type": "stream",
     "text": [
      "Fitting 5 folds for each of 9 candidates, totalling 45 fits\n",
      "Best Parameters: {'max_depth': 10, 'min_samples_split': 2}\n"
     ]
    }
   ],
   "source": [
    "from sklearn.tree import DecisionTreeClassifier\n",
    "from sklearn.ensemble import GradientBoostingClassifier\n",
    "\n",
    "def perform_grid_search(model, param_grid, X_train, y_train, cv=5, scoring='accuracy', verbose=1, n_jobs=-1):\n",
    " \n",
    "    # Initialize the GridSearchCV object\n",
    "    grid_search = GridSearchCV(estimator=model, param_grid=param_grid, \n",
    "                               cv=cv, scoring=scoring, verbose=verbose, n_jobs=n_jobs)\n",
    "    \n",
    "    # Fit the grid search to the data\n",
    "    grid_search.fit(X_train, y_train)\n",
    "    \n",
    "    # Get the best estimator and best parameters\n",
    "    best_estimator = grid_search.best_estimator_\n",
    "    best_params = grid_search.best_params_\n",
    "    \n",
    "    print(f\"Best Parameters: {best_params}\")\n",
    "    return best_estimator, best_params\n",
    "\n",
    "# Define the model\n",
    "model = DecisionTreeClassifier()\n",
    "\n",
    "# Define the parameter grid for SVM\n",
    "param_grid = {\n",
    "\n",
    "    'max_depth': [10, 30, 50],\n",
    "    'min_samples_split': [2, 5, 10],\n",
    "\n",
    "\n",
    "   \n",
    "}\n",
    "\n",
    "# Perform grid search\n",
    "dt_best_model, best_hyperparams = perform_grid_search(model, param_grid, X_train_lda, y_train)\n",
    "\n",
    "# Evaluate the best model on the test set\n",
    "y_pred = dt_best_model.predict(X_test_lda)"
   ]
  },
  {
   "cell_type": "code",
   "execution_count": 19,
   "id": "4428bd79-2eac-441d-898c-330cfe3d8694",
   "metadata": {},
   "outputs": [
    {
     "name": "stdout",
     "output_type": "stream",
     "text": [
      "Decision Tree Training Accuracy: 100.00%\n",
      "Decision Tree  Testing Accuracy: 82.66%\n",
      "Decision Tree  Validation Accuracy: 73.39%\n",
      "Classification Report: \n",
      "               precision    recall  f1-score   support\n",
      "\n",
      "           0       0.77      0.90      0.83        62\n",
      "           1       0.89      0.77      0.83        62\n",
      "           2       0.79      0.84      0.81        62\n",
      "           3       0.89      0.79      0.84        62\n",
      "\n",
      "    accuracy                           0.83       248\n",
      "   macro avg       0.83      0.83      0.83       248\n",
      "weighted avg       0.83      0.83      0.83       248\n",
      "\n",
      "Confusion Matrix:\n",
      " [[56  0  1  5]\n",
      " [10 48  3  1]\n",
      " [ 7  3 52  0]\n",
      " [ 0  3 10 49]]\n"
     ]
    }
   ],
   "source": [
    "from sklearn.tree import DecisionTreeClassifier\n",
    "from sklearn.metrics import accuracy_score, classification_report\n",
    "import matplotlib.pyplot as plt\n",
    "from sklearn.tree import plot_tree\n",
    "\n",
    "# Initialize and train the Naive Bayes classifier\n",
    "dt_model = dt_best_model\n",
    "dt_model.fit(X_train_lda, y_train)\n",
    "\n",
    "dt_train_pred = dt_model.predict(X_train_lda)\n",
    "dt_test_pred = dt_model.predict(X_test_lda)\n",
    "dt_valid_pred = dt_model.predict(X_valid_lda)\n",
    "\n",
    "\n",
    "\n",
    "dt_train_accuracy = accuracy_score(y_train, dt_train_pred)\n",
    "dt_test_accuracy = accuracy_score(y_test, dt_test_pred)\n",
    "dt_valid_accuracy = accuracy_score(y_valid, dt_valid_pred)\n",
    "\n",
    "\n",
    "print(\"Decision Tree Training Accuracy: {:.2f}%\".format(dt_train_accuracy * 100))\n",
    "print(\"Decision Tree  Testing Accuracy: {:.2f}%\".format(dt_test_accuracy * 100))\n",
    "print(\"Decision Tree  Validation Accuracy: {:.2f}%\".format(dt_valid_accuracy * 100))\n",
    "print(\"Classification Report: \\n\", classification_report(y_test, dt_test_pred))\n",
    "print(\"Confusion Matrix:\\n\", confusion_matrix(y_test, dt_test_pred))"
   ]
  },
  {
   "cell_type": "markdown",
   "id": "940c06a0-3fbc-464a-b824-160db340ded0",
   "metadata": {},
   "source": [
    "## Comparison"
   ]
  },
  {
   "cell_type": "code",
   "execution_count": 20,
   "id": "6c6db1b3-2e1d-4277-9c44-1b8568d4fce0",
   "metadata": {},
   "outputs": [
    {
     "data": {
      "image/png": "[encoded data removed]",
      "text/plain": [
       "<Figure size 1000x600 with 1 Axes>"
      ]
     },
     "metadata": {},
     "output_type": "display_data"
    }
   ],
   "source": [
    "import matplotlib.pyplot as plt\n",
    "\n",
    "\n",
    "# Data\n",
    "algorithms = ['KNN','SVM','Random Forest','Decision Tree' ]\n",
    "accuracies = [test_accuracy_knn , svm_test_accuracy , rf_test_accuracy, dt_test_accuracy]\n",
    "\n",
    "# Create line plot\n",
    "plt.figure(figsize=(10, 6))\n",
    "plt.plot(algorithms, accuracies, marker='o', linestyle='-', color='skyblue')\n",
    "\n",
    "# Add title and labels\n",
    "plt.title('Algorithm Accuracies')\n",
    "plt.xlabel('Algorithm')\n",
    "plt.ylabel('Accuracy')\n",
    "\n",
    "# Display the plot\n",
    "plt.show()\n"
   ]
  }
 ],
 "metadata": {
  "kernelspec": {
   "display_name": "Python 3 (ipykernel)",
   "language": "python",
   "name": "python3"
  },
  "language_info": {
   "codemirror_mode": {
    "name": "ipython",
    "version": 3
   },
   "file_extension": ".py",
   "mimetype": "text/x-python",
   "name": "python",
   "nbconvert_exporter": "python",
   "pygments_lexer": "ipython3",
   "version": "3.10.5"
  }
 },
 "nbformat": 4,
 "nbformat_minor": 5
}
